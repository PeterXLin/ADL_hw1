{
 "cells": [
  {
   "cell_type": "code",
   "execution_count": 1,
   "metadata": {},
   "outputs": [
    {
     "name": "stderr",
     "output_type": "stream",
     "text": [
      "/home/whlin/.local/lib/python3.9/site-packages/tqdm/auto.py:21: TqdmWarning: IProgress not found. Please update jupyter and ipywidgets. See https://ipywidgets.readthedocs.io/en/stable/user_install.html\n",
      "  from .autonotebook import tqdm as notebook_tqdm\n"
     ]
    }
   ],
   "source": [
    "from datasets import load_dataset\n",
    "import json"
   ]
  },
  {
   "cell_type": "code",
   "execution_count": 2,
   "metadata": {},
   "outputs": [
    {
     "name": "stderr",
     "output_type": "stream",
     "text": [
      "Using custom data configuration default-bf2c0e59b3d5d02d\n",
      "Found cached dataset json (/home/whlin/.cache/huggingface/datasets/json/default-bf2c0e59b3d5d02d/0.0.0/e6070c77f18f01a5ad4551a8b7edfba20b8438b7cad4d94e6ad9378022ce4aab)\n",
      "100%|██████████| 2/2 [00:00<00:00,  7.71it/s]\n"
     ]
    }
   ],
   "source": [
    "data_files = {\"train\": \"./data/train.json\", \"test\": \"./data/valid.json\"}\n",
    "qa_dataset = load_dataset(\"json\", data_files=data_files)"
   ]
  },
  {
   "cell_type": "code",
   "execution_count": 3,
   "metadata": {},
   "outputs": [
    {
     "name": "stdout",
     "output_type": "stream",
     "text": [
      "鼓是一種打擊樂器，也是一種通訊工具，非洲某些部落用以傳達信息，中國古代軍隊用以發號施令。堅固的女的一面或雙面蒙上拉緊的膜。鼓可以用手或鼓杵敲擊出聲。鼓在非洲的傳統音樂以及在現代音樂中是一種比較重要的樂器，有的樂隊完全由以鼓為主的打擊樂器組成。鼓除了作為樂器外，在古代許多文明中還用鼓來傳播信息。不同類型的鼓，如定音鼓等，均被調校至特定的音調中。更常見的是將不同類型的鼓或打擊樂器互相組合，以構成常於流行音樂出現的爵士鼓。鼓的演奏一般是用手敲擊鼓面，或是用一二隻鼓棒或鼓錘敲擊。由於鼓的觸覺特性及其易於使用，在音樂治療中常用到鼓，特別是手鼓。在許多傳統文化中，鼓有其象徵的意義，也常用在宗教儀式中。像在蒲隆地的卡央達鼓是王權的象徵，卡央達鼓也出現在1962至1966年間的蒲隆地國旗中。在流行音樂或爵士樂中，鼓常常是指由一組鼓及銅鈸組成的爵士鼓，演奏者稱為鼓手。鼓幾乎都有一個圓形的開口，鼓面拉緊後可以固定在上面。但鼓身的形狀就有很多的變化，西洋樂器的鼓，鼓身多半都是圓柱體，但定音鼓的鼓身則是碗形，有些鼓的鼓身則是截角圓錐或是二個接合的截角圓錐。中國、日本、韓國的鼓常常是中間略寬、上下略窄的圓柱體。最早的鼓是出現於西元前六千年的兩河文明。\n"
     ]
    }
   ],
   "source": [
    "# context_dataset = load_dataset('json', data_files = \"./data/context.json\", cache_dir='./cache/context')\n",
    "with open(\"./data/context.json\") as f:\n",
    "    context_data = json.load(f)\n",
    "\n",
    "print(context_data[0])"
   ]
  },
  {
   "cell_type": "code",
   "execution_count": 5,
   "metadata": {},
   "outputs": [
    {
     "name": "stdout",
     "output_type": "stream",
     "text": [
      "赤壁之戰後，孫權與劉備展開反攻。揚州方面，孫權自己率軍攻打曹操領地合肥，派張昭進攻九江的當塗。守將劉馥與蔣濟的規劃使得孫權屢攻不下合肥而退，張昭的攻勢也失敗。荊州方面，周瑜與劉備率軍攻擊曹仁固守的江陵，其中周瑜負責攻擊江陵，劉備軍關羽負責阻擋曹魏援軍，史稱絕北道。聯軍用了約一年的時間攻克江陵。而劉備則順利的攻佔荊南四郡。孫權為向劉備拉近關係，將其妹嫁給劉備。其後，周瑜曾想出兵攻打益州，達成「竟長江所極」的目標，但他到巴丘後不久即病逝。最後，孫權聽從魯肅的建議，將江陵「借」給劉備，確認他分得荊南四郡，督導荊州，從而得以聯合抵禦曹操。\n"
     ]
    }
   ],
   "source": [
    "print(context_data[      6028])"
   ]
  },
  {
   "cell_type": "code",
   "execution_count": 4,
   "metadata": {},
   "outputs": [
    {
     "name": "stdout",
     "output_type": "stream",
     "text": [
      "Dataset({\n",
      "    features: ['id', 'question', 'paragraphs', 'relevant', 'answer'],\n",
      "    num_rows: 10\n",
      "})\n",
      "{'id': '593f14f960d971e294af884f0194b3a7', 'question': '舍本和誰的數據能推算出連星的恆星的質量？', 'paragraphs': [2018, 6952, 8264, 836], 'relevant': 836, 'answer': {'start': 108, 'text': '斯特魯維'}}\n"
     ]
    }
   ],
   "source": [
    "test_dataset = qa_dataset['train'].select(range(10))\n",
    "\n",
    "print(test_dataset)\n",
    "print(test_dataset[0])"
   ]
  },
  {
   "cell_type": "code",
   "execution_count": 7,
   "metadata": {},
   "outputs": [],
   "source": [
    "# def preprocess_0(example):\n",
    "#     data = dict()\n",
    "#     data['label'] = example['paragraphs'].index(example['relevant'])\n",
    "#     # data['question_header_name'] = example['question'][0]\n",
    "#     for i in range(4):\n",
    "#         data['sentence{}'.format(str(i))] = context_data[example['paragraphs'][i]]\n",
    "\n",
    "#     return data\n",
    "\n",
    "def preprocess_0(example):\n",
    "    data = dict()\n",
    "    data['label'] = [example['paragraphs'][i].index(answer_id) for i, answer_id in enumerate(example['relevant'])]\n",
    "    # there are four possible context for an question\n",
    "    for i in range(4):\n",
    "        data['sentence{}'.format(str(i))] = [context_data[paragraph_ids[i]] for paragraph_ids in example['paragraphs']]\n",
    "\n",
    "    return data"
   ]
  },
  {
   "cell_type": "code",
   "execution_count": 12,
   "metadata": {},
   "outputs": [
    {
     "data": {
      "text/plain": [
       "['id', 'question', 'paragraphs', 'relevant', 'answer']"
      ]
     },
     "execution_count": 12,
     "metadata": {},
     "output_type": "execute_result"
    }
   ],
   "source": [
    "test_dataset.column_names"
   ]
  },
  {
   "cell_type": "code",
   "execution_count": 9,
   "metadata": {},
   "outputs": [
    {
     "name": "stderr",
     "output_type": "stream",
     "text": [
      "Loading cached processed dataset at /home/whlin/.cache/huggingface/datasets/json/default-bf2c0e59b3d5d02d/0.0.0/e6070c77f18f01a5ad4551a8b7edfba20b8438b7cad4d94e6ad9378022ce4aab/cache-c1ba5d4f89ae0179.arrow\n"
     ]
    }
   ],
   "source": [
    "swag_dataset = test_dataset.map(preprocess_0, batched = True, remove_columns=['answer', 'paragraphs', 'relevant', 'id'])"
   ]
  },
  {
   "cell_type": "code",
   "execution_count": 11,
   "metadata": {},
   "outputs": [
    {
     "data": {
      "text/plain": [
       "{'question': '在關西鎮以什麼方言為主？',\n",
       " 'label': 1,\n",
       " 'sentence0': '開發區依照產業重點的不同分為經濟開發區、經濟技術開發區、工業區等類型，此外還有產業園或工業園、科技園相對專業的區域等，多附屬於開發區。開發區為中國大陸地區推行「改革開放」以來設置最多的經濟區。按照所設層次的不同，分為國家級、省級、縣級三種主要類型，很多鄉鎮也設有開發區。為便於管理，開發區劃定的區域多為地級行政區範圍內跨縣級行政區的區域，或一個縣級行政區範圍劃定的區域，這類開發區以國家級或省級開發區為主；縣級行政區範圍劃定的開發區則以縣級開發區為主，在一個鄉鎮內或跨越鄉鎮劃定區域；鄉鎮一級設立的開發區多跨行政村劃定區域，或一個行政村範圍內劃定區域。',\n",
       " 'sentence1': '新竹縣是中華民國臺灣省的縣，位於臺灣本島西北部，北臨桃園市，南接苗栗縣，東南以雪山山脈與宜蘭縣、臺中市相連，西部面向台灣海峽，西接與新竹市交界。全縣總面積約1,427平方公里，除鳳山溪、頭前溪中下游沖積平原外，其餘大多為丘陵、台地及山地。早期新竹縣郊區多務農，1970年代工業技術研究院創設於新竹市，1980年代新竹科學工業園區設立於新竹市東區及新竹縣寶山鄉，1990年代位於湖口鄉的新竹工業區也逐漸從傳統產業聚落轉型為新興高科技產業聚落，使得新竹縣成為北台灣的高科技產業重鎮，而人口也在近幾年急速增加。本縣方言於絕大部分地區使用海陸客家話，竹北市及新豐鄉沿海地區部分使用泉州腔閩南話較多，關西鎮及峨眉鄉部分使用四縣腔客家話為主。',\n",
       " 'sentence2': '新竹縣人口約54萬人，居民以海陸腔客家人為主，閩南人、外省人及原住民為少數，近30年來由於新竹科學園區的發展，也吸引許多外來人口移居。新竹縣目前有中國科技大學新竹校區、明新科技大學、大華科技大學、中華科技大學新竹校區5所大專院校。另外有國立竹東高中、國立竹北高中、、國立關西高中、縣立湖口高中、縣立六家高中、內思高工、忠信高中、東泰高中、義民高中、仰德高中等高中職校。新竹縣在語文閱讀方面也極為推動及重視，曾舉辦過中華民國92年全國語文競賽重大賽事。台灣高鐵穿越本縣，新竹車站設置於竹北市。台鐵縱貫線、六家線、內灣線都有在本縣設站。自2007年3月1日起因興建六家線，內灣線的新竹-竹東間列車停駛4年8個月，內灣線因為六家線完工已於2011年11月11日恢復通車。',\n",
       " 'sentence3': '隨著解嚴以來政治上的自由化與民主化，以泛藍與泛綠為首的政黨政治、統一與獨立議題、以及公民社會的形成，臺灣逐漸脫離過往戒嚴時代形塑的大中國史觀，發展出以臺灣為中心的多元文化主義，使得臺灣文化呈現多元並立、兼容並蓄的面貌。臺灣荷蘭統治時期臺灣被稱作「Taivoan」，但明鄭時期捨棄荷治時期使用的「大員」名稱，將臺灣稱為「東都」、「東寧」。納入清朝版圖後，清朝改以「臺灣」設置臺灣府，「臺灣」遂成為此島嶼的稱呼。除此之外，臺灣亦有「寶島」、「鯤島」、「蓬萊」、「福爾摩沙」、「福摩薩」、「高砂」等別稱。臺灣又稱為「福爾摩沙」，源自葡萄牙語「Formosa」，意為「美麗島」。在1544年當時葡萄牙船隻在經過臺灣海面時，水手從海上遠望臺灣，發現臺灣甚為美麗，於是高呼「Ilha Formosa」，葡萄牙語的「Formosa」為「美麗」之意，「Ilha」則為「島嶼」，故翻譯為美麗島。但此說法尚無直接與明確的證據。在1950年代前是歐洲國家對臺灣的主要稱呼。歐洲亦因此曾長期稱臺灣海峽為福爾摩沙海峽。'}"
      ]
     },
     "execution_count": 11,
     "metadata": {},
     "output_type": "execute_result"
    }
   ],
   "source": [
    "swag_dataset[1]"
   ]
  },
  {
   "cell_type": "code",
   "execution_count": null,
   "metadata": {},
   "outputs": [],
   "source": [
    "print()"
   ]
  },
  {
   "cell_type": "code",
   "execution_count": 31,
   "metadata": {},
   "outputs": [],
   "source": [
    "ending_names = [f\"sentence{i}\" for i in range(4)]\n",
    "context_name = \"question\"\n",
    "question_header_name = \"question_header_name\"\n",
    "label_column_name = \"label\""
   ]
  },
  {
   "cell_type": "code",
   "execution_count": 34,
   "metadata": {},
   "outputs": [],
   "source": [
    "def preprocess_function(examples):\n",
    "    first_sentences = [[context] * 4 for context in examples[context_name]]\n",
    "    print(first_sentences)\n",
    "    # question_headers = examples[question_header_name]\n",
    "    # second_sentences = [\n",
    "    #     [f\"{header} {examples[end][i]}\" for end in ending_names] for i, header in enumerate(question_headers)\n",
    "    # ]\n",
    "    second_sentences = [\n",
    "        [f\"{examples[end][i]}\" for end in ending_names] for i in range(len(examples[context_name]))\n",
    "    ]\n",
    "    # for sentence in second_sentences[0]:\n",
    "    #     print(sentence)\n",
    "    print(second_sentences)\n",
    "    labels = examples[label_column_name]\n",
    "    print(labels)"
   ]
  },
  {
   "cell_type": "code",
   "execution_count": 30,
   "metadata": {},
   "outputs": [
    {
     "name": "stdout",
     "output_type": "stream",
     "text": [
      "{'question': '舍本和誰的數據能推算出連星的恆星的質量？', 'label': 3, 'sentence0': '1930年，印度物理學家蘇布拉馬尼揚·錢德拉塞卡根據廣義相對論計算出質量大於1.4倍太陽質量的非轉動星體會因重力塌縮成為電子簡併態。愛丁頓雖然在理論上支持黑洞存在的可能性，但同時認為錢德拉塞卡的觀點事實上不能成立，他認為「應當有某種自然定律阻止恆星出現這種荒唐的行為」。當時的物理學家如波耳、亨利·羅素等人都贊同錢德拉塞卡的理論，但出於愛丁頓聲望的原因，他們並沒有公開對錢德拉塞卡表示支持。不過從某種意義上說，愛丁頓也是正確的，當恆星質量大於錢德拉塞卡極限後，確實仍然會有中子簡併壓力阻止恆星繼續塌縮。到了1939年，美國物理學家羅伯特·歐本海默等人推算了這種情形的恆星質量上限，這個極限被稱作托爾曼-歐本海默-沃爾科夫極限。當今的天體物理學家普遍認為，除非有如未知的夸克簡併壓力一類因素的存在，質量大於托爾曼-歐本海默-沃爾科夫極限的恆星將最終會塌縮為錢德拉塞卡所預言的黑洞。即使如此，史瓦西解作為當時能夠描述黑洞行為的唯一精確解，由於具有一些讓人看似不大優美的性質以及難以與實驗觀測相聯繫，一直沒有進入主流物理學研究的視野，關於黑洞的理論乃至整個廣義相對論領域的研究由此擱置了二十年之久。', 'sentence1': '心理學是否為自然科學的範圍，目前也尚存爭議，一般較廣為接受的說法是心理學同時包含在自然科學與社會科學的範疇之中。自然科學的根本目的在於尋找隱藏在自然現象背後的規律，但是自然科學的工作尚不包括研究為什麼會存在這些規律。自然科學認為超自然的、隨意的和自相矛盾的現象是不存在的。自然科學的最重要的兩個支柱是觀察和邏輯推理。由對自然的觀察和邏輯推理自然科學可以引導出大自然中的規律。假如觀察的現象與規律的預言不同，那麼要麼是因為觀察中有錯誤，要麼是因為至此為止被認為是正確的規律是錯誤的。一個超自然因素是不存在的。', 'sentence2': '這是一個長久以來就存在的假設，大多數的恆星都是長期處在特定重力場的多星或聯星系統。特別是許多大質量的歐和逼型恆星，有80%被認為是多星系統的一部分。然而，質量越低的恆星，單獨存在的比例顯然越高，只有25%的紅矮星被發現有伴星。因為85%的恆星是紅矮星，所以在銀河系內多數的恆星都是單獨誕生的。恆星在宇宙中的分布是不均勻的，並且通常都是成群的與星際間的氣體、塵埃一起存在於星系中。一個典型的星系擁有數千億顆的恆星，而在可觀測宇宙中的星系數量超過一千億個。2010年對恆星數量的估計是在可觀測宇宙中有3000垓顆。儘管人們往往認為恆星僅存在於星系中，但星系際的恆星已經被發現了。', 'sentence3': '在19世紀雙星觀測所獲得的成就使重要性也增加了。在1834年，白塞爾觀測到天狼星自行的變化，因而推測有一顆隱藏的伴星；愛德華·皮克林在1899年觀測開陽週期性分裂的光譜線時發現第一顆光譜雙星，週期是104天。天文學家斯特魯維和舍本·衛斯里·伯納姆仔細的觀察和收集了許多聯星的資料，使得可以從被確定的軌道要素推算出恆星的質量。第一個獲得解答的是1827年由菲利克斯·薩瓦里透過望遠鏡的觀測得到的聯星軌道。對恆星的科學研究在20世紀獲得快速的進展，相片成為天文學上很有價值的工具。卡爾·史瓦西發現經由比較視星等和攝影星等的差別，可以得到恆星的顏色和它的溫度。1921年，光電光度計的發展可以在不同的波長間隔上非常精密的測量星等。阿爾伯特·邁克生在虎克望遠鏡第一次使用干涉儀測量出恆星的直徑。'}\n"
     ]
    }
   ],
   "source": [
    "print(tokenized_dataset[0])"
   ]
  },
  {
   "cell_type": "code",
   "execution_count": 36,
   "metadata": {},
   "outputs": [
    {
     "name": "stdout",
     "output_type": "stream",
     "text": [
      "[['舍本和誰的數據能推算出連星的恆星的質量？', '舍本和誰的數據能推算出連星的恆星的質量？', '舍本和誰的數據能推算出連星的恆星的質量？', '舍本和誰的數據能推算出連星的恆星的質量？'], ['在關西鎮以什麼方言為主？', '在關西鎮以什麼方言為主？', '在關西鎮以什麼方言為主？', '在關西鎮以什麼方言為主？']]\n",
      "[['1930年，印度物理學家蘇布拉馬尼揚·錢德拉塞卡根據廣義相對論計算出質量大於1.4倍太陽質量的非轉動星體會因重力塌縮成為電子簡併態。愛丁頓雖然在理論上支持黑洞存在的可能性，但同時認為錢德拉塞卡的觀點事實上不能成立，他認為「應當有某種自然定律阻止恆星出現這種荒唐的行為」。當時的物理學家如波耳、亨利·羅素等人都贊同錢德拉塞卡的理論，但出於愛丁頓聲望的原因，他們並沒有公開對錢德拉塞卡表示支持。不過從某種意義上說，愛丁頓也是正確的，當恆星質量大於錢德拉塞卡極限後，確實仍然會有中子簡併壓力阻止恆星繼續塌縮。到了1939年，美國物理學家羅伯特·歐本海默等人推算了這種情形的恆星質量上限，這個極限被稱作托爾曼-歐本海默-沃爾科夫極限。當今的天體物理學家普遍認為，除非有如未知的夸克簡併壓力一類因素的存在，質量大於托爾曼-歐本海默-沃爾科夫極限的恆星將最終會塌縮為錢德拉塞卡所預言的黑洞。即使如此，史瓦西解作為當時能夠描述黑洞行為的唯一精確解，由於具有一些讓人看似不大優美的性質以及難以與實驗觀測相聯繫，一直沒有進入主流物理學研究的視野，關於黑洞的理論乃至整個廣義相對論領域的研究由此擱置了二十年之久。', '心理學是否為自然科學的範圍，目前也尚存爭議，一般較廣為接受的說法是心理學同時包含在自然科學與社會科學的範疇之中。自然科學的根本目的在於尋找隱藏在自然現象背後的規律，但是自然科學的工作尚不包括研究為什麼會存在這些規律。自然科學認為超自然的、隨意的和自相矛盾的現象是不存在的。自然科學的最重要的兩個支柱是觀察和邏輯推理。由對自然的觀察和邏輯推理自然科學可以引導出大自然中的規律。假如觀察的現象與規律的預言不同，那麼要麼是因為觀察中有錯誤，要麼是因為至此為止被認為是正確的規律是錯誤的。一個超自然因素是不存在的。', '這是一個長久以來就存在的假設，大多數的恆星都是長期處在特定重力場的多星或聯星系統。特別是許多大質量的歐和逼型恆星，有80%被認為是多星系統的一部分。然而，質量越低的恆星，單獨存在的比例顯然越高，只有25%的紅矮星被發現有伴星。因為85%的恆星是紅矮星，所以在銀河系內多數的恆星都是單獨誕生的。恆星在宇宙中的分布是不均勻的，並且通常都是成群的與星際間的氣體、塵埃一起存在於星系中。一個典型的星系擁有數千億顆的恆星，而在可觀測宇宙中的星系數量超過一千億個。2010年對恆星數量的估計是在可觀測宇宙中有3000垓顆。儘管人們往往認為恆星僅存在於星系中，但星系際的恆星已經被發現了。', '在19世紀雙星觀測所獲得的成就使重要性也增加了。在1834年，白塞爾觀測到天狼星自行的變化，因而推測有一顆隱藏的伴星；愛德華·皮克林在1899年觀測開陽週期性分裂的光譜線時發現第一顆光譜雙星，週期是104天。天文學家斯特魯維和舍本·衛斯里·伯納姆仔細的觀察和收集了許多聯星的資料，使得可以從被確定的軌道要素推算出恆星的質量。第一個獲得解答的是1827年由菲利克斯·薩瓦里透過望遠鏡的觀測得到的聯星軌道。對恆星的科學研究在20世紀獲得快速的進展，相片成為天文學上很有價值的工具。卡爾·史瓦西發現經由比較視星等和攝影星等的差別，可以得到恆星的顏色和它的溫度。1921年，光電光度計的發展可以在不同的波長間隔上非常精密的測量星等。阿爾伯特·邁克生在虎克望遠鏡第一次使用干涉儀測量出恆星的直徑。'], ['開發區依照產業重點的不同分為經濟開發區、經濟技術開發區、工業區等類型，此外還有產業園或工業園、科技園相對專業的區域等，多附屬於開發區。開發區為中國大陸地區推行「改革開放」以來設置最多的經濟區。按照所設層次的不同，分為國家級、省級、縣級三種主要類型，很多鄉鎮也設有開發區。為便於管理，開發區劃定的區域多為地級行政區範圍內跨縣級行政區的區域，或一個縣級行政區範圍劃定的區域，這類開發區以國家級或省級開發區為主；縣級行政區範圍劃定的開發區則以縣級開發區為主，在一個鄉鎮內或跨越鄉鎮劃定區域；鄉鎮一級設立的開發區多跨行政村劃定區域，或一個行政村範圍內劃定區域。', '新竹縣是中華民國臺灣省的縣，位於臺灣本島西北部，北臨桃園市，南接苗栗縣，東南以雪山山脈與宜蘭縣、臺中市相連，西部面向台灣海峽，西接與新竹市交界。全縣總面積約1,427平方公里，除鳳山溪、頭前溪中下游沖積平原外，其餘大多為丘陵、台地及山地。早期新竹縣郊區多務農，1970年代工業技術研究院創設於新竹市，1980年代新竹科學工業園區設立於新竹市東區及新竹縣寶山鄉，1990年代位於湖口鄉的新竹工業區也逐漸從傳統產業聚落轉型為新興高科技產業聚落，使得新竹縣成為北台灣的高科技產業重鎮，而人口也在近幾年急速增加。本縣方言於絕大部分地區使用海陸客家話，竹北市及新豐鄉沿海地區部分使用泉州腔閩南話較多，關西鎮及峨眉鄉部分使用四縣腔客家話為主。', '新竹縣人口約54萬人，居民以海陸腔客家人為主，閩南人、外省人及原住民為少數，近30年來由於新竹科學園區的發展，也吸引許多外來人口移居。新竹縣目前有中國科技大學新竹校區、明新科技大學、大華科技大學、中華科技大學新竹校區5所大專院校。另外有國立竹東高中、國立竹北高中、、國立關西高中、縣立湖口高中、縣立六家高中、內思高工、忠信高中、東泰高中、義民高中、仰德高中等高中職校。新竹縣在語文閱讀方面也極為推動及重視，曾舉辦過中華民國92年全國語文競賽重大賽事。台灣高鐵穿越本縣，新竹車站設置於竹北市。台鐵縱貫線、六家線、內灣線都有在本縣設站。自2007年3月1日起因興建六家線，內灣線的新竹-竹東間列車停駛4年8個月，內灣線因為六家線完工已於2011年11月11日恢復通車。', '隨著解嚴以來政治上的自由化與民主化，以泛藍與泛綠為首的政黨政治、統一與獨立議題、以及公民社會的形成，臺灣逐漸脫離過往戒嚴時代形塑的大中國史觀，發展出以臺灣為中心的多元文化主義，使得臺灣文化呈現多元並立、兼容並蓄的面貌。臺灣荷蘭統治時期臺灣被稱作「Taivoan」，但明鄭時期捨棄荷治時期使用的「大員」名稱，將臺灣稱為「東都」、「東寧」。納入清朝版圖後，清朝改以「臺灣」設置臺灣府，「臺灣」遂成為此島嶼的稱呼。除此之外，臺灣亦有「寶島」、「鯤島」、「蓬萊」、「福爾摩沙」、「福摩薩」、「高砂」等別稱。臺灣又稱為「福爾摩沙」，源自葡萄牙語「Formosa」，意為「美麗島」。在1544年當時葡萄牙船隻在經過臺灣海面時，水手從海上遠望臺灣，發現臺灣甚為美麗，於是高呼「Ilha Formosa」，葡萄牙語的「Formosa」為「美麗」之意，「Ilha」則為「島嶼」，故翻譯為美麗島。但此說法尚無直接與明確的證據。在1950年代前是歐洲國家對臺灣的主要稱呼。歐洲亦因此曾長期稱臺灣海峽為福爾摩沙海峽。']]\n",
      "[3, 1]\n"
     ]
    }
   ],
   "source": [
    "preprocess_function(tokenized_dataset.select(range(2)))"
   ]
  },
  {
   "cell_type": "code",
   "execution_count": 31,
   "metadata": {},
   "outputs": [
    {
     "name": "stdout",
     "output_type": "stream",
     "text": [
      "Dataset({\n",
      "    features: ['question', 'label', 'question_header_name', 'sentence0', 'sentence1', 'sentence2', 'sentence3'],\n",
      "    num_rows: 10\n",
      "})\n",
      "舍本和誰的數據能推算出連星的恆星的質量？\n",
      "1930年，印度物理學家蘇布拉馬尼揚·錢德拉塞卡根據廣義相對論計算出質量大於1.4倍太陽質量的非轉動星體會因重力塌縮成為電子簡併態。愛丁頓雖然在理論上支持黑洞存在的可能性，但同時認為錢德拉塞卡的觀點事實上不能成立，他認為「應當有某種自然定律阻止恆星出現這種荒唐的行為」。當時的物理學家如波耳、亨利·羅素等人都贊同錢德拉塞卡的理論，但出於愛丁頓聲望的原因，他們並沒有公開對錢德拉塞卡表示支持。不過從某種意義上說，愛丁頓也是正確的，當恆星質量大於錢德拉塞卡極限後，確實仍然會有中子簡併壓力阻止恆星繼續塌縮。到了1939年，美國物理學家羅伯特·歐本海默等人推算了這種情形的恆星質量上限，這個極限被稱作托爾曼-歐本海默-沃爾科夫極限。當今的天體物理學家普遍認為，除非有如未知的夸克簡併壓力一類因素的存在，質量大於托爾曼-歐本海默-沃爾科夫極限的恆星將最終會塌縮為錢德拉塞卡所預言的黑洞。即使如此，史瓦西解作為當時能夠描述黑洞行為的唯一精確解，由於具有一些讓人看似不大優美的性質以及難以與實驗觀測相聯繫，一直沒有進入主流物理學研究的視野，關於黑洞的理論乃至整個廣義相對論領域的研究由此擱置了二十年之久。\n",
      "心理學是否為自然科學的範圍，目前也尚存爭議，一般較廣為接受的說法是心理學同時包含在自然科學與社會科學的範疇之中。自然科學的根本目的在於尋找隱藏在自然現象背後的規律，但是自然科學的工作尚不包括研究為什麼會存在這些規律。自然科學認為超自然的、隨意的和自相矛盾的現象是不存在的。自然科學的最重要的兩個支柱是觀察和邏輯推理。由對自然的觀察和邏輯推理自然科學可以引導出大自然中的規律。假如觀察的現象與規律的預言不同，那麼要麼是因為觀察中有錯誤，要麼是因為至此為止被認為是正確的規律是錯誤的。一個超自然因素是不存在的。\n",
      "這是一個長久以來就存在的假設，大多數的恆星都是長期處在特定重力場的多星或聯星系統。特別是許多大質量的歐和逼型恆星，有80%被認為是多星系統的一部分。然而，質量越低的恆星，單獨存在的比例顯然越高，只有25%的紅矮星被發現有伴星。因為85%的恆星是紅矮星，所以在銀河系內多數的恆星都是單獨誕生的。恆星在宇宙中的分布是不均勻的，並且通常都是成群的與星際間的氣體、塵埃一起存在於星系中。一個典型的星系擁有數千億顆的恆星，而在可觀測宇宙中的星系數量超過一千億個。2010年對恆星數量的估計是在可觀測宇宙中有3000垓顆。儘管人們往往認為恆星僅存在於星系中，但星系際的恆星已經被發現了。\n",
      "在19世紀雙星觀測所獲得的成就使重要性也增加了。在1834年，白塞爾觀測到天狼星自行的變化，因而推測有一顆隱藏的伴星；愛德華·皮克林在1899年觀測開陽週期性分裂的光譜線時發現第一顆光譜雙星，週期是104天。天文學家斯特魯維和舍本·衛斯里·伯納姆仔細的觀察和收集了許多聯星的資料，使得可以從被確定的軌道要素推算出恆星的質量。第一個獲得解答的是1827年由菲利克斯·薩瓦里透過望遠鏡的觀測得到的聯星軌道。對恆星的科學研究在20世紀獲得快速的進展，相片成為天文學上很有價值的工具。卡爾·史瓦西發現經由比較視星等和攝影星等的差別，可以得到恆星的顏色和它的溫度。1921年，光電光度計的發展可以在不同的波長間隔上非常精密的測量星等。阿爾伯特·邁克生在虎克望遠鏡第一次使用干涉儀測量出恆星的直徑。\n",
      "3\n"
     ]
    }
   ],
   "source": [
    "print(tokenized_dataset)\n",
    "print(tokenized_dataset[0]['question'])\n",
    "for i in range(4):\n",
    "    print(tokenized_dataset[0][\"sentence{}\".format(str(i))])\n",
    "print(tokenized_dataset[0]['label'])"
   ]
  },
  {
   "cell_type": "code",
   "execution_count": 24,
   "metadata": {},
   "outputs": [
    {
     "name": "stderr",
     "output_type": "stream",
     "text": [
      "No config specified, defaulting to: swag/regular\n",
      "Found cached dataset swag (/home/whlin/.cache/huggingface/datasets/swag/regular/0.0.0/9640de08cdba6a1469ed3834fcab4b8ad8e38caf5d1ba5e7436d8b1fd067ad4c)\n",
      "100%|██████████| 3/3 [00:00<00:00, 1419.39it/s]\n"
     ]
    }
   ],
   "source": [
    "raw_datasets = load_dataset(\"swag\")"
   ]
  },
  {
   "cell_type": "code",
   "execution_count": 37,
   "metadata": {},
   "outputs": [],
   "source": [
    "if raw_datasets[\"train\"] is not None:\n",
    "    column_names = raw_datasets[\"train\"].column_names\n",
    "else:\n",
    "    column_names = raw_datasets[\"validation\"].column_names    \n",
    "ending_names = [f\"ending{i}\" for i in range(4)]\n",
    "context_name = \"sent1\"\n",
    "question_header_name = \"sent2\"\n",
    "label_column_name = \"label\" if \"label\" in column_names else \"labels\""
   ]
  },
  {
   "cell_type": "code",
   "execution_count": 38,
   "metadata": {},
   "outputs": [],
   "source": [
    "def preprocess_function(examples):\n",
    "    first_sentences = [[context] * 4 for context in examples[context_name]]\n",
    "    print(first_sentences)\n",
    "    question_headers = examples[question_header_name]\n",
    "    # print(question_headers)\n",
    "    second_sentences = [\n",
    "        [f\"{header} {examples[end][i]}\" for end in ending_names] for i, header in enumerate(question_headers)\n",
    "    ]\n",
    "    print(second_sentences)\n",
    "    labels = examples[label_column_name]\n",
    "    print(labels)"
   ]
  },
  {
   "cell_type": "code",
   "execution_count": 40,
   "metadata": {},
   "outputs": [
    {
     "name": "stdout",
     "output_type": "stream",
     "text": [
      "[['Members of the procession walk down the street holding small horn brass instruments.', 'Members of the procession walk down the street holding small horn brass instruments.', 'Members of the procession walk down the street holding small horn brass instruments.', 'Members of the procession walk down the street holding small horn brass instruments.'], ['A drum line passes by walking down the street playing their instruments.', 'A drum line passes by walking down the street playing their instruments.', 'A drum line passes by walking down the street playing their instruments.', 'A drum line passes by walking down the street playing their instruments.']]\n",
      "[['A drum line passes by walking down the street playing their instruments.', 'A drum line has heard approaching them.', \"A drum line arrives and they're outside dancing and asleep.\", 'A drum line turns the lead singer watches the performance.'], ['Members of the procession are playing ping pong and celebrating one left each in quick.', 'Members of the procession wait slowly towards the cadets.', 'Members of the procession continues to play as well along the crowd along with the band being interviewed.', 'Members of the procession continue to play marching, interspersed.']]\n",
      "[0, 3]\n"
     ]
    }
   ],
   "source": [
    "preprocess_function(raw_datasets[\"train\"].select(range(2)))"
   ]
  },
  {
   "cell_type": "code",
   "execution_count": null,
   "metadata": {},
   "outputs": [],
   "source": []
  }
 ],
 "metadata": {
  "kernelspec": {
   "display_name": "ADL_hw1",
   "language": "python",
   "name": "python3"
  },
  "language_info": {
   "codemirror_mode": {
    "name": "ipython",
    "version": 3
   },
   "file_extension": ".py",
   "mimetype": "text/x-python",
   "name": "python",
   "nbconvert_exporter": "python",
   "pygments_lexer": "ipython3",
   "version": "3.9.18"
  },
  "orig_nbformat": 4
 },
 "nbformat": 4,
 "nbformat_minor": 2
}
