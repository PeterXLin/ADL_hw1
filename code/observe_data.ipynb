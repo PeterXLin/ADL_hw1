{
 "cells": [
  {
   "cell_type": "code",
   "execution_count": 28,
   "metadata": {},
   "outputs": [],
   "source": [
    "from datasets import load_dataset\n",
    "import json\n",
    "import seaborn as sns\n",
    "import matplotlib.pyplot as plt"
   ]
  },
  {
   "cell_type": "code",
   "execution_count": 29,
   "metadata": {},
   "outputs": [
    {
     "name": "stderr",
     "output_type": "stream",
     "text": [
      "Using custom data configuration default-bf2c0e59b3d5d02d\n",
      "Found cached dataset json (/home/whlin/.cache/huggingface/datasets/json/default-bf2c0e59b3d5d02d/0.0.0/e6070c77f18f01a5ad4551a8b7edfba20b8438b7cad4d94e6ad9378022ce4aab)\n",
      "100%|██████████| 2/2 [00:00<00:00, 1184.00it/s]\n"
     ]
    }
   ],
   "source": [
    "data_files = {\"train\": \"../data/train.json\", \"test\": \"../data/valid.json\"}\n",
    "qa_dataset = load_dataset(\"json\", data_files=data_files)\n",
    "\n",
    "with open(\"../data/context.json\") as f:\n",
    "    context_data = json.load(f)\n",
    "\n",
    "def preprocess(example):\n",
    "    data = dict()\n",
    "    data['context'] = context_data[example['relevant']]\n",
    "    data['answers'] = {\"answer_start\": [example['answer']['start']],\n",
    "                       \"text\": [example['answer']['text']]}\n",
    "    \n",
    "    return data"
   ]
  },
  {
   "cell_type": "code",
   "execution_count": 30,
   "metadata": {},
   "outputs": [
    {
     "name": "stderr",
     "output_type": "stream",
     "text": [
      "Loading cached processed dataset at /home/whlin/.cache/huggingface/datasets/json/default-bf2c0e59b3d5d02d/0.0.0/e6070c77f18f01a5ad4551a8b7edfba20b8438b7cad4d94e6ad9378022ce4aab/cache-57fb00011e0b4267.arrow\n",
      "Loading cached processed dataset at /home/whlin/.cache/huggingface/datasets/json/default-bf2c0e59b3d5d02d/0.0.0/e6070c77f18f01a5ad4551a8b7edfba20b8438b7cad4d94e6ad9378022ce4aab/cache-657c724419f1abe8.arrow\n"
     ]
    }
   ],
   "source": [
    "squad_format_dataset = qa_dataset.map(preprocess, remove_columns=['answer', 'paragraphs', 'relevant'])"
   ]
  },
  {
   "cell_type": "code",
   "execution_count": 31,
   "metadata": {},
   "outputs": [],
   "source": [
    "squad_format_dataset.set_format('pandas')\n",
    "\n",
    "val_df = squad_format_dataset['test'][:]\n",
    "train_df = squad_format_dataset['train'][:]\n",
    "\n",
    "dfs = {'train': train_df, \"test\": val_df}"
   ]
  },
  {
   "cell_type": "code",
   "execution_count": 32,
   "metadata": {},
   "outputs": [
    {
     "name": "stdout",
     "output_type": "stream",
     "text": [
      "                                 id  \\\n",
      "0  593f14f960d971e294af884f0194b3a7   \n",
      "1  acd5d763ec4c250f9a11eac1412d6814   \n",
      "2  5670000714a658c5e52658e22e6985f7   \n",
      "3  f71493751ccfce42aae7a99ed3f20dbb   \n",
      "4  56d547357d11a8938197072d82aa126c   \n",
      "\n",
      "                                    question  \\\n",
      "0                       舍本和誰的數據能推算出連星的恆星的質量？   \n",
      "1                               在關西鎮以什麼方言為主？   \n",
      "2  「有錫兵，天下爭。無錫寧，天下清。」指的是何人攻破蘭陵後，率軍駐無錫錫山時的上書?   \n",
      "3                                《方法論》的作者是誰?   \n",
      "4                             環繞速度又為哪種速度的別稱?   \n",
      "\n",
      "                                             context  \\\n",
      "0  在19世紀雙星觀測所獲得的成就使重要性也增加了。在1834年，白塞爾觀測到天狼星自行的變化，...   \n",
      "1  新竹縣是中華民國臺灣省的縣，位於臺灣本島西北部，北臨桃園市，南接苗栗縣，東南以雪山山脈與宜蘭...   \n",
      "2  「無錫」一名的由來所說頗多，傳播最廣的觀點源自馮夢龍的《東周列國志》：戰國末年，秦王嬴政大將...   \n",
      "3  在歐洲，基礎性的論證來自博納文圖拉•卡瓦列里，他提出體積和面積應該用求無窮小橫截面/段的體積...   \n",
      "4  宇宙速度是物體從地球出發，在天體的重力場中運動，四個較有代表性的初始速度的統稱。太空載具按其...   \n",
      "\n",
      "                                       answers  \n",
      "0    {'answer_start': [108], 'text': ['斯特魯維']}  \n",
      "1  {'answer_start': [306], 'text': ['四縣腔客家話']}  \n",
      "2       {'answer_start': [46], 'text': ['王翦']}  \n",
      "3     {'answer_start': [63], 'text': ['阿基米德']}  \n",
      "4   {'answer_start': [69], 'text': ['第一宇宙速度']}  \n",
      "                                 id                             question  \\\n",
      "0  9f0860355c55e113d615cc88b3fa9420                      伊利諾大學是哪一個國家的大學?   \n",
      "1  20f49d82038169b184336c4c1f96f64d            中華人民共和國成立後，土地改革運動由誰所主持帶領?   \n",
      "2  44fbf143b338305c5c553fc733b1fe54  哈康七世海、拉扎耶夫海、戴維斯海、莫森海均有一部份位於哪一洋的範圍內？   \n",
      "3  9cacc447cfc4b2dbcf3509ad9b07210f     天主教廷的什麼推廣活動與當時貴族階層的作戰和冒險欲望強烈相衝突？   \n",
      "4  2d3afb7bd17af9bb2e1b8ce890ee55d0                   成吉思汗的哪一個兒子成為大汗繼承人?   \n",
      "\n",
      "                                             context  \\\n",
      "0  伊利諾大學創建於1867年，是美國伊利諾州的一個大學系統，包括厄巴納-香檳、芝加哥、春田三個...   \n",
      "1  劉少奇，譜名紹選，表字渭璜，湖南省寧鄉縣人，祖籍江西吉水，是中國現代史上的重要政治家、中國共...   \n",
      "2  南冰洋包括南冰洋洋流、德雷克海峽的一部分、斯科舍海、威德爾海、哈康七世海、拉扎耶夫海、里瑟-...   \n",
      "3  歐洲在1000年左右開始，城市居民增加，開始有別於鄉村，不過這些城市規模遠小於東方。在東方許...   \n",
      "4  於1223年的迦勒迦河之戰更是擊潰基輔羅斯諸國與欽察忽炭汗的聯軍，並向西進軍到今烏克蘭西部的...   \n",
      "\n",
      "                                          answers  \n",
      "0          {'answer_start': [15], 'text': ['美國']}  \n",
      "1        {'answer_start': [433], 'text': ['劉少奇']}  \n",
      "2          {'answer_start': [0], 'text': ['南冰洋']}  \n",
      "3  {'answer_start': [285], 'text': ['上帝和平、上帝休戰']}  \n",
      "4        {'answer_start': [152], 'text': ['窩闊台']}  \n"
     ]
    }
   ],
   "source": [
    "for df in dfs.keys():\n",
    "    print(dfs[df].head())"
   ]
  },
  {
   "cell_type": "code",
   "execution_count": 33,
   "metadata": {},
   "outputs": [
    {
     "name": "stdout",
     "output_type": "stream",
     "text": [
      "<class 'pandas.core.frame.DataFrame'>\n",
      "RangeIndex: 21714 entries, 0 to 21713\n",
      "Data columns (total 4 columns):\n",
      " #   Column    Non-Null Count  Dtype \n",
      "---  ------    --------------  ----- \n",
      " 0   id        21714 non-null  object\n",
      " 1   question  21714 non-null  object\n",
      " 2   context   21714 non-null  object\n",
      " 3   answers   21714 non-null  object\n",
      "dtypes: object(4)\n",
      "memory usage: 678.7+ KB\n",
      "None\n",
      "<class 'pandas.core.frame.DataFrame'>\n",
      "RangeIndex: 3009 entries, 0 to 3008\n",
      "Data columns (total 4 columns):\n",
      " #   Column    Non-Null Count  Dtype \n",
      "---  ------    --------------  ----- \n",
      " 0   id        3009 non-null   object\n",
      " 1   question  3009 non-null   object\n",
      " 2   context   3009 non-null   object\n",
      " 3   answers   3009 non-null   object\n",
      "dtypes: object(4)\n",
      "memory usage: 94.2+ KB\n",
      "None\n"
     ]
    }
   ],
   "source": [
    "for df in dfs.keys():\n",
    "    print(dfs[df].info())"
   ]
  },
  {
   "cell_type": "markdown",
   "metadata": {},
   "source": [
    "# 觀察context length和answer length"
   ]
  },
  {
   "cell_type": "code",
   "execution_count": 34,
   "metadata": {},
   "outputs": [],
   "source": [
    "for df in dfs.values():\n",
    "    df['context_length'] = df.apply(lambda x: len(x['context']), axis=1)\n",
    "    df['answer_length'] = df.apply(lambda x: len(x['answers']['text'][0]), axis = 1)\n",
    "    df['question_length'] = df.apply(lambda x: len(x['question']), axis = 1)"
   ]
  },
  {
   "cell_type": "code",
   "execution_count": 35,
   "metadata": {},
   "outputs": [],
   "source": [
    "# train_df.drop(columns = [\"context_legnth\"])"
   ]
  },
  {
   "cell_type": "code",
   "execution_count": 36,
   "metadata": {},
   "outputs": [
    {
     "name": "stdout",
     "output_type": "stream",
     "text": [
      "440.1639495256517\n",
      "20.85290595928894\n",
      "4.752970433821497\n",
      "24.0\n",
      "449.97540711199736\n",
      "21.74576271186441\n",
      "5.213027583914922\n",
      "30.0\n"
     ]
    }
   ],
   "source": [
    "for df in dfs.values():\n",
    "    print(df['context_length'].mean())\n",
    "    print(df['question_length'].mean())\n",
    "    print(df['answer_length'].mean())\n",
    "    print(df['answer_length'].quantile(.995)) # 99%的人小於這個長度"
   ]
  },
  {
   "cell_type": "code",
   "execution_count": 37,
   "metadata": {},
   "outputs": [
    {
     "name": "stderr",
     "output_type": "stream",
     "text": [
      "/home/whlin/anaconda3/envs/ADL_hw1/lib/python3.9/site-packages/seaborn/_oldcore.py:1498: FutureWarning: is_categorical_dtype is deprecated and will be removed in a future version. Use isinstance(dtype, CategoricalDtype) instead\n",
      "  if pd.api.types.is_categorical_dtype(vector):\n",
      "/home/whlin/anaconda3/envs/ADL_hw1/lib/python3.9/site-packages/seaborn/_oldcore.py:1498: FutureWarning: is_categorical_dtype is deprecated and will be removed in a future version. Use isinstance(dtype, CategoricalDtype) instead\n",
      "  if pd.api.types.is_categorical_dtype(vector):\n",
      "/home/whlin/anaconda3/envs/ADL_hw1/lib/python3.9/site-packages/seaborn/_oldcore.py:1498: FutureWarning: is_categorical_dtype is deprecated and will be removed in a future version. Use isinstance(dtype, CategoricalDtype) instead\n",
      "  if pd.api.types.is_categorical_dtype(vector):\n",
      "/home/whlin/anaconda3/envs/ADL_hw1/lib/python3.9/site-packages/seaborn/_oldcore.py:1498: FutureWarning: is_categorical_dtype is deprecated and will be removed in a future version. Use isinstance(dtype, CategoricalDtype) instead\n",
      "  if pd.api.types.is_categorical_dtype(vector):\n",
      "/home/whlin/anaconda3/envs/ADL_hw1/lib/python3.9/site-packages/seaborn/_oldcore.py:1498: FutureWarning: is_categorical_dtype is deprecated and will be removed in a future version. Use isinstance(dtype, CategoricalDtype) instead\n",
      "  if pd.api.types.is_categorical_dtype(vector):\n",
      "/home/whlin/anaconda3/envs/ADL_hw1/lib/python3.9/site-packages/seaborn/_oldcore.py:1119: FutureWarning: use_inf_as_na option is deprecated and will be removed in a future version. Convert inf values to NaN before operating instead.\n",
      "  with pd.option_context('mode.use_inf_as_na', True):\n",
      "/home/whlin/anaconda3/envs/ADL_hw1/lib/python3.9/site-packages/seaborn/axisgrid.py:118: UserWarning: The figure layout has changed to tight\n",
      "  self._figure.tight_layout(*args, **kwargs)\n",
      "/home/whlin/anaconda3/envs/ADL_hw1/lib/python3.9/site-packages/seaborn/_oldcore.py:1498: FutureWarning: is_categorical_dtype is deprecated and will be removed in a future version. Use isinstance(dtype, CategoricalDtype) instead\n",
      "  if pd.api.types.is_categorical_dtype(vector):\n",
      "/home/whlin/anaconda3/envs/ADL_hw1/lib/python3.9/site-packages/seaborn/_oldcore.py:1498: FutureWarning: is_categorical_dtype is deprecated and will be removed in a future version. Use isinstance(dtype, CategoricalDtype) instead\n",
      "  if pd.api.types.is_categorical_dtype(vector):\n",
      "/home/whlin/anaconda3/envs/ADL_hw1/lib/python3.9/site-packages/seaborn/_oldcore.py:1498: FutureWarning: is_categorical_dtype is deprecated and will be removed in a future version. Use isinstance(dtype, CategoricalDtype) instead\n",
      "  if pd.api.types.is_categorical_dtype(vector):\n",
      "/home/whlin/anaconda3/envs/ADL_hw1/lib/python3.9/site-packages/seaborn/_oldcore.py:1498: FutureWarning: is_categorical_dtype is deprecated and will be removed in a future version. Use isinstance(dtype, CategoricalDtype) instead\n",
      "  if pd.api.types.is_categorical_dtype(vector):\n",
      "/home/whlin/anaconda3/envs/ADL_hw1/lib/python3.9/site-packages/seaborn/_oldcore.py:1498: FutureWarning: is_categorical_dtype is deprecated and will be removed in a future version. Use isinstance(dtype, CategoricalDtype) instead\n",
      "  if pd.api.types.is_categorical_dtype(vector):\n",
      "/home/whlin/anaconda3/envs/ADL_hw1/lib/python3.9/site-packages/seaborn/_oldcore.py:1119: FutureWarning: use_inf_as_na option is deprecated and will be removed in a future version. Convert inf values to NaN before operating instead.\n",
      "  with pd.option_context('mode.use_inf_as_na', True):\n",
      "/home/whlin/anaconda3/envs/ADL_hw1/lib/python3.9/site-packages/seaborn/axisgrid.py:118: UserWarning: The figure layout has changed to tight\n",
      "  self._figure.tight_layout(*args, **kwargs)\n",
      "/home/whlin/anaconda3/envs/ADL_hw1/lib/python3.9/site-packages/seaborn/_oldcore.py:1498: FutureWarning: is_categorical_dtype is deprecated and will be removed in a future version. Use isinstance(dtype, CategoricalDtype) instead\n",
      "  if pd.api.types.is_categorical_dtype(vector):\n",
      "/home/whlin/anaconda3/envs/ADL_hw1/lib/python3.9/site-packages/seaborn/_oldcore.py:1498: FutureWarning: is_categorical_dtype is deprecated and will be removed in a future version. Use isinstance(dtype, CategoricalDtype) instead\n",
      "  if pd.api.types.is_categorical_dtype(vector):\n",
      "/home/whlin/anaconda3/envs/ADL_hw1/lib/python3.9/site-packages/seaborn/_oldcore.py:1498: FutureWarning: is_categorical_dtype is deprecated and will be removed in a future version. Use isinstance(dtype, CategoricalDtype) instead\n",
      "  if pd.api.types.is_categorical_dtype(vector):\n",
      "/home/whlin/anaconda3/envs/ADL_hw1/lib/python3.9/site-packages/seaborn/_oldcore.py:1498: FutureWarning: is_categorical_dtype is deprecated and will be removed in a future version. Use isinstance(dtype, CategoricalDtype) instead\n",
      "  if pd.api.types.is_categorical_dtype(vector):\n",
      "/home/whlin/anaconda3/envs/ADL_hw1/lib/python3.9/site-packages/seaborn/_oldcore.py:1498: FutureWarning: is_categorical_dtype is deprecated and will be removed in a future version. Use isinstance(dtype, CategoricalDtype) instead\n",
      "  if pd.api.types.is_categorical_dtype(vector):\n",
      "/home/whlin/anaconda3/envs/ADL_hw1/lib/python3.9/site-packages/seaborn/_oldcore.py:1119: FutureWarning: use_inf_as_na option is deprecated and will be removed in a future version. Convert inf values to NaN before operating instead.\n",
      "  with pd.option_context('mode.use_inf_as_na', True):\n",
      "/home/whlin/anaconda3/envs/ADL_hw1/lib/python3.9/site-packages/seaborn/axisgrid.py:118: UserWarning: The figure layout has changed to tight\n",
      "  self._figure.tight_layout(*args, **kwargs)\n",
      "/home/whlin/anaconda3/envs/ADL_hw1/lib/python3.9/site-packages/seaborn/_oldcore.py:1498: FutureWarning: is_categorical_dtype is deprecated and will be removed in a future version. Use isinstance(dtype, CategoricalDtype) instead\n",
      "  if pd.api.types.is_categorical_dtype(vector):\n",
      "/home/whlin/anaconda3/envs/ADL_hw1/lib/python3.9/site-packages/seaborn/_oldcore.py:1498: FutureWarning: is_categorical_dtype is deprecated and will be removed in a future version. Use isinstance(dtype, CategoricalDtype) instead\n",
      "  if pd.api.types.is_categorical_dtype(vector):\n",
      "/home/whlin/anaconda3/envs/ADL_hw1/lib/python3.9/site-packages/seaborn/_oldcore.py:1498: FutureWarning: is_categorical_dtype is deprecated and will be removed in a future version. Use isinstance(dtype, CategoricalDtype) instead\n",
      "  if pd.api.types.is_categorical_dtype(vector):\n",
      "/home/whlin/anaconda3/envs/ADL_hw1/lib/python3.9/site-packages/seaborn/_oldcore.py:1498: FutureWarning: is_categorical_dtype is deprecated and will be removed in a future version. Use isinstance(dtype, CategoricalDtype) instead\n",
      "  if pd.api.types.is_categorical_dtype(vector):\n",
      "/home/whlin/anaconda3/envs/ADL_hw1/lib/python3.9/site-packages/seaborn/_oldcore.py:1498: FutureWarning: is_categorical_dtype is deprecated and will be removed in a future version. Use isinstance(dtype, CategoricalDtype) instead\n",
      "  if pd.api.types.is_categorical_dtype(vector):\n",
      "/home/whlin/anaconda3/envs/ADL_hw1/lib/python3.9/site-packages/seaborn/_oldcore.py:1119: FutureWarning: use_inf_as_na option is deprecated and will be removed in a future version. Convert inf values to NaN before operating instead.\n",
      "  with pd.option_context('mode.use_inf_as_na', True):\n",
      "/home/whlin/anaconda3/envs/ADL_hw1/lib/python3.9/site-packages/seaborn/axisgrid.py:118: UserWarning: The figure layout has changed to tight\n",
      "  self._figure.tight_layout(*args, **kwargs)\n",
      "/home/whlin/anaconda3/envs/ADL_hw1/lib/python3.9/site-packages/seaborn/_oldcore.py:1498: FutureWarning: is_categorical_dtype is deprecated and will be removed in a future version. Use isinstance(dtype, CategoricalDtype) instead\n",
      "  if pd.api.types.is_categorical_dtype(vector):\n",
      "/home/whlin/anaconda3/envs/ADL_hw1/lib/python3.9/site-packages/seaborn/_oldcore.py:1498: FutureWarning: is_categorical_dtype is deprecated and will be removed in a future version. Use isinstance(dtype, CategoricalDtype) instead\n",
      "  if pd.api.types.is_categorical_dtype(vector):\n",
      "/home/whlin/anaconda3/envs/ADL_hw1/lib/python3.9/site-packages/seaborn/_oldcore.py:1498: FutureWarning: is_categorical_dtype is deprecated and will be removed in a future version. Use isinstance(dtype, CategoricalDtype) instead\n",
      "  if pd.api.types.is_categorical_dtype(vector):\n",
      "/home/whlin/anaconda3/envs/ADL_hw1/lib/python3.9/site-packages/seaborn/_oldcore.py:1498: FutureWarning: is_categorical_dtype is deprecated and will be removed in a future version. Use isinstance(dtype, CategoricalDtype) instead\n",
      "  if pd.api.types.is_categorical_dtype(vector):\n",
      "/home/whlin/anaconda3/envs/ADL_hw1/lib/python3.9/site-packages/seaborn/_oldcore.py:1498: FutureWarning: is_categorical_dtype is deprecated and will be removed in a future version. Use isinstance(dtype, CategoricalDtype) instead\n",
      "  if pd.api.types.is_categorical_dtype(vector):\n",
      "/home/whlin/anaconda3/envs/ADL_hw1/lib/python3.9/site-packages/seaborn/_oldcore.py:1119: FutureWarning: use_inf_as_na option is deprecated and will be removed in a future version. Convert inf values to NaN before operating instead.\n",
      "  with pd.option_context('mode.use_inf_as_na', True):\n",
      "/home/whlin/anaconda3/envs/ADL_hw1/lib/python3.9/site-packages/seaborn/axisgrid.py:118: UserWarning: The figure layout has changed to tight\n",
      "  self._figure.tight_layout(*args, **kwargs)\n",
      "/home/whlin/anaconda3/envs/ADL_hw1/lib/python3.9/site-packages/seaborn/_oldcore.py:1498: FutureWarning: is_categorical_dtype is deprecated and will be removed in a future version. Use isinstance(dtype, CategoricalDtype) instead\n",
      "  if pd.api.types.is_categorical_dtype(vector):\n",
      "/home/whlin/anaconda3/envs/ADL_hw1/lib/python3.9/site-packages/seaborn/_oldcore.py:1498: FutureWarning: is_categorical_dtype is deprecated and will be removed in a future version. Use isinstance(dtype, CategoricalDtype) instead\n",
      "  if pd.api.types.is_categorical_dtype(vector):\n",
      "/home/whlin/anaconda3/envs/ADL_hw1/lib/python3.9/site-packages/seaborn/_oldcore.py:1498: FutureWarning: is_categorical_dtype is deprecated and will be removed in a future version. Use isinstance(dtype, CategoricalDtype) instead\n",
      "  if pd.api.types.is_categorical_dtype(vector):\n",
      "/home/whlin/anaconda3/envs/ADL_hw1/lib/python3.9/site-packages/seaborn/_oldcore.py:1498: FutureWarning: is_categorical_dtype is deprecated and will be removed in a future version. Use isinstance(dtype, CategoricalDtype) instead\n",
      "  if pd.api.types.is_categorical_dtype(vector):\n",
      "/home/whlin/anaconda3/envs/ADL_hw1/lib/python3.9/site-packages/seaborn/_oldcore.py:1498: FutureWarning: is_categorical_dtype is deprecated and will be removed in a future version. Use isinstance(dtype, CategoricalDtype) instead\n",
      "  if pd.api.types.is_categorical_dtype(vector):\n",
      "/home/whlin/anaconda3/envs/ADL_hw1/lib/python3.9/site-packages/seaborn/_oldcore.py:1119: FutureWarning: use_inf_as_na option is deprecated and will be removed in a future version. Convert inf values to NaN before operating instead.\n",
      "  with pd.option_context('mode.use_inf_as_na', True):\n",
      "/home/whlin/anaconda3/envs/ADL_hw1/lib/python3.9/site-packages/seaborn/axisgrid.py:118: UserWarning: The figure layout has changed to tight\n",
      "  self._figure.tight_layout(*args, **kwargs)\n"
     ]
    },
    {
     "data": {
      "text/plain": [
       "<Figure size 500x500 with 0 Axes>"
      ]
     },
     "metadata": {},
     "output_type": "display_data"
    },
    {
     "data": {
      "image/png": "[encoded data removed]",
      "text/plain": [
       "<Figure size 651.375x500 with 1 Axes>"
      ]
     },
     "metadata": {},
     "output_type": "display_data"
    },
    {
     "data": {
      "text/plain": [
       "<Figure size 500x500 with 0 Axes>"
      ]
     },
     "metadata": {},
     "output_type": "display_data"
    },
    {
     "data": {
      "image/png": "[encoded data removed]",
      "text/plain": [
       "<Figure size 653.625x500 with 1 Axes>"
      ]
     },
     "metadata": {},
     "output_type": "display_data"
    },
    {
     "data": {
      "text/plain": [
       "<Figure size 500x500 with 0 Axes>"
      ]
     },
     "metadata": {},
     "output_type": "display_data"
    },
    {
     "data": {
      "image/png": "[encoded data removed]",
      "text/plain": [
       "<Figure size 661.125x500 with 1 Axes>"
      ]
     },
     "metadata": {},
     "output_type": "display_data"
    },
    {
     "data": {
      "text/plain": [
       "<Figure size 500x500 with 0 Axes>"
      ]
     },
     "metadata": {},
     "output_type": "display_data"
    },
    {
     "data": {
      "image/png": "[encoded data removed]",
      "text/plain": [
       "<Figure size 651.375x500 with 1 Axes>"
      ]
     },
     "metadata": {},
     "output_type": "display_data"
    },
    {
     "data": {
      "text/plain": [
       "<Figure size 500x500 with 0 Axes>"
      ]
     },
     "metadata": {},
     "output_type": "display_data"
    },
    {
     "data": {
      "image/png": "[encoded data removed]",
      "text/plain": [
       "<Figure size 653.625x500 with 1 Axes>"
      ]
     },
     "metadata": {},
     "output_type": "display_data"
    },
    {
     "data": {
      "text/plain": [
       "<Figure size 500x500 with 0 Axes>"
      ]
     },
     "metadata": {},
     "output_type": "display_data"
    },
    {
     "data": {
      "image/png": "[encoded data removed]",
      "text/plain": [
       "<Figure size 661.125x500 with 1 Axes>"
      ]
     },
     "metadata": {},
     "output_type": "display_data"
    }
   ],
   "source": [
    "for df in dfs.values():\n",
    "    for column in ['answer_length', 'context_length', 'question_length']:\n",
    "        plt.figure(figsize = (5, 5))\n",
    "        sns.displot(df.loc[:, [column]], kind='ecdf')"
   ]
  },
  {
   "cell_type": "markdown",
   "metadata": {},
   "source": [
    "# Observe Predict Result"
   ]
  },
  {
   "cell_type": "code",
   "execution_count": 38,
   "metadata": {},
   "outputs": [],
   "source": [
    "import pandas as pd"
   ]
  },
  {
   "cell_type": "code",
   "execution_count": 39,
   "metadata": {},
   "outputs": [],
   "source": [
    "predict_df = pd.read_csv(\"../data/valid_predict.csv\")"
   ]
  },
  {
   "cell_type": "code",
   "execution_count": 40,
   "metadata": {},
   "outputs": [
    {
     "data": {
      "text/html": [
       "<div>\n",
       "<style scoped>\n",
       "    .dataframe tbody tr th:only-of-type {\n",
       "        vertical-align: middle;\n",
       "    }\n",
       "\n",
       "    .dataframe tbody tr th {\n",
       "        vertical-align: top;\n",
       "    }\n",
       "\n",
       "    .dataframe thead th {\n",
       "        text-align: right;\n",
       "    }\n",
       "</style>\n",
       "<table border=\"1\" class=\"dataframe\">\n",
       "  <thead>\n",
       "    <tr style=\"text-align: right;\">\n",
       "      <th></th>\n",
       "      <th>id</th>\n",
       "      <th>question</th>\n",
       "      <th>context</th>\n",
       "      <th>answers</th>\n",
       "      <th>context_length</th>\n",
       "      <th>answer_length</th>\n",
       "      <th>question_length</th>\n",
       "    </tr>\n",
       "  </thead>\n",
       "  <tbody>\n",
       "    <tr>\n",
       "      <th>0</th>\n",
       "      <td>9f0860355c55e113d615cc88b3fa9420</td>\n",
       "      <td>伊利諾大學是哪一個國家的大學?</td>\n",
       "      <td>伊利諾大學創建於1867年，是美國伊利諾州的一個大學系統，包括厄巴納-香檳、芝加哥、春田三個...</td>\n",
       "      <td>{'answer_start': [15], 'text': ['美國']}</td>\n",
       "      <td>338</td>\n",
       "      <td>2</td>\n",
       "      <td>15</td>\n",
       "    </tr>\n",
       "    <tr>\n",
       "      <th>1</th>\n",
       "      <td>20f49d82038169b184336c4c1f96f64d</td>\n",
       "      <td>中華人民共和國成立後，土地改革運動由誰所主持帶領?</td>\n",
       "      <td>劉少奇，譜名紹選，表字渭璜，湖南省寧鄉縣人，祖籍江西吉水，是中國現代史上的重要政治家、中國共...</td>\n",
       "      <td>{'answer_start': [433], 'text': ['劉少奇']}</td>\n",
       "      <td>700</td>\n",
       "      <td>3</td>\n",
       "      <td>25</td>\n",
       "    </tr>\n",
       "    <tr>\n",
       "      <th>2</th>\n",
       "      <td>44fbf143b338305c5c553fc733b1fe54</td>\n",
       "      <td>哈康七世海、拉扎耶夫海、戴維斯海、莫森海均有一部份位於哪一洋的範圍內？</td>\n",
       "      <td>南冰洋包括南冰洋洋流、德雷克海峽的一部分、斯科舍海、威德爾海、哈康七世海、拉扎耶夫海、里瑟-...</td>\n",
       "      <td>{'answer_start': [0], 'text': ['南冰洋']}</td>\n",
       "      <td>286</td>\n",
       "      <td>3</td>\n",
       "      <td>35</td>\n",
       "    </tr>\n",
       "    <tr>\n",
       "      <th>3</th>\n",
       "      <td>9cacc447cfc4b2dbcf3509ad9b07210f</td>\n",
       "      <td>天主教廷的什麼推廣活動與當時貴族階層的作戰和冒險欲望強烈相衝突？</td>\n",
       "      <td>歐洲在1000年左右開始，城市居民增加，開始有別於鄉村，不過這些城市規模遠小於東方。在東方許...</td>\n",
       "      <td>{'answer_start': [285], 'text': ['上帝和平、上帝休戰']}</td>\n",
       "      <td>301</td>\n",
       "      <td>9</td>\n",
       "      <td>32</td>\n",
       "    </tr>\n",
       "    <tr>\n",
       "      <th>4</th>\n",
       "      <td>2d3afb7bd17af9bb2e1b8ce890ee55d0</td>\n",
       "      <td>成吉思汗的哪一個兒子成為大汗繼承人?</td>\n",
       "      <td>於1223年的迦勒迦河之戰更是擊潰基輔羅斯諸國與欽察忽炭汗的聯軍，並向西進軍到今烏克蘭西部的...</td>\n",
       "      <td>{'answer_start': [152], 'text': ['窩闊台']}</td>\n",
       "      <td>554</td>\n",
       "      <td>3</td>\n",
       "      <td>18</td>\n",
       "    </tr>\n",
       "  </tbody>\n",
       "</table>\n",
       "</div>"
      ],
      "text/plain": [
       "                                 id                             question  \\\n",
       "0  9f0860355c55e113d615cc88b3fa9420                      伊利諾大學是哪一個國家的大學?   \n",
       "1  20f49d82038169b184336c4c1f96f64d            中華人民共和國成立後，土地改革運動由誰所主持帶領?   \n",
       "2  44fbf143b338305c5c553fc733b1fe54  哈康七世海、拉扎耶夫海、戴維斯海、莫森海均有一部份位於哪一洋的範圍內？   \n",
       "3  9cacc447cfc4b2dbcf3509ad9b07210f     天主教廷的什麼推廣活動與當時貴族階層的作戰和冒險欲望強烈相衝突？   \n",
       "4  2d3afb7bd17af9bb2e1b8ce890ee55d0                   成吉思汗的哪一個兒子成為大汗繼承人?   \n",
       "\n",
       "                                             context  \\\n",
       "0  伊利諾大學創建於1867年，是美國伊利諾州的一個大學系統，包括厄巴納-香檳、芝加哥、春田三個...   \n",
       "1  劉少奇，譜名紹選，表字渭璜，湖南省寧鄉縣人，祖籍江西吉水，是中國現代史上的重要政治家、中國共...   \n",
       "2  南冰洋包括南冰洋洋流、德雷克海峽的一部分、斯科舍海、威德爾海、哈康七世海、拉扎耶夫海、里瑟-...   \n",
       "3  歐洲在1000年左右開始，城市居民增加，開始有別於鄉村，不過這些城市規模遠小於東方。在東方許...   \n",
       "4  於1223年的迦勒迦河之戰更是擊潰基輔羅斯諸國與欽察忽炭汗的聯軍，並向西進軍到今烏克蘭西部的...   \n",
       "\n",
       "                                          answers  context_length  \\\n",
       "0          {'answer_start': [15], 'text': ['美國']}             338   \n",
       "1        {'answer_start': [433], 'text': ['劉少奇']}             700   \n",
       "2          {'answer_start': [0], 'text': ['南冰洋']}             286   \n",
       "3  {'answer_start': [285], 'text': ['上帝和平、上帝休戰']}             301   \n",
       "4        {'answer_start': [152], 'text': ['窩闊台']}             554   \n",
       "\n",
       "   answer_length  question_length  \n",
       "0              2               15  \n",
       "1              3               25  \n",
       "2              3               35  \n",
       "3              9               32  \n",
       "4              3               18  "
      ]
     },
     "execution_count": 40,
     "metadata": {},
     "output_type": "execute_result"
    }
   ],
   "source": [
    "dfs['test'].head()"
   ]
  },
  {
   "cell_type": "code",
   "execution_count": 43,
   "metadata": {},
   "outputs": [],
   "source": [
    "df['label'] = df.apply(lambda x: x['answers']['text'][0], axis=1)"
   ]
  },
  {
   "cell_type": "code",
   "execution_count": 44,
   "metadata": {},
   "outputs": [],
   "source": [
    "result = predict_df.merge(dfs['test'], how = 'inner', on = 'id')"
   ]
  },
  {
   "cell_type": "code",
   "execution_count": 45,
   "metadata": {},
   "outputs": [
    {
     "name": "stdout",
     "output_type": "stream",
     "text": [
      "                                    id       answer\n",
      "0     9f0860355c55e113d615cc88b3fa9420           美國\n",
      "1     20f49d82038169b184336c4c1f96f64d          劉少奇\n",
      "2     44fbf143b338305c5c553fc733b1fe54          南冰洋\n",
      "3     9cacc447cfc4b2dbcf3509ad9b07210f    上帝和平、上帝休戰\n",
      "4     2d3afb7bd17af9bb2e1b8ce890ee55d0        三子窩闊台\n",
      "...                                ...          ...\n",
      "3004  9f1432a829a6ca3bc939dec0b83ce5aa     富蘭克林國民銀行\n",
      "3005  3b3b96583d25c805f7ac0e5385d48365  在細胞中積累並造成危害\n",
      "3006  c728c79fb0de893fb92f81d179aff661         第十二屆\n",
      "3007  5d404a02f3d61566f3bd8e76965f9ce3      約翰昆西亞當斯\n",
      "3008  0d0e80cbf20aece5604c2cb7a875e6b8            磷\n",
      "\n",
      "[3009 rows x 2 columns]\n"
     ]
    }
   ],
   "source": [
    "print(predict_df)"
   ]
  },
  {
   "cell_type": "code",
   "execution_count": 47,
   "metadata": {},
   "outputs": [],
   "source": [
    "wrong_case = result.loc[result['answer'] != result['label']] "
   ]
  },
  {
   "cell_type": "code",
   "execution_count": 55,
   "metadata": {},
   "outputs": [],
   "source": [
    "brief_wrong_case = wrong_case.drop(['context_length', 'answer_length', \"question_length\", \"answers\", 'context'], axis = 1)"
   ]
  },
  {
   "cell_type": "code",
   "execution_count": 54,
   "metadata": {},
   "outputs": [],
   "source": [
    "brief_wrong_case.to_csv(\"../data/wrong_answer.csv\", index=False)"
   ]
  },
  {
   "cell_type": "code",
   "execution_count": 57,
   "metadata": {},
   "outputs": [
    {
     "data": {
      "text/html": [
       "<div>\n",
       "<style scoped>\n",
       "    .dataframe tbody tr th:only-of-type {\n",
       "        vertical-align: middle;\n",
       "    }\n",
       "\n",
       "    .dataframe tbody tr th {\n",
       "        vertical-align: top;\n",
       "    }\n",
       "\n",
       "    .dataframe thead th {\n",
       "        text-align: right;\n",
       "    }\n",
       "</style>\n",
       "<table border=\"1\" class=\"dataframe\">\n",
       "  <thead>\n",
       "    <tr style=\"text-align: right;\">\n",
       "      <th></th>\n",
       "      <th>id</th>\n",
       "      <th>answer</th>\n",
       "      <th>question</th>\n",
       "      <th>label</th>\n",
       "    </tr>\n",
       "  </thead>\n",
       "  <tbody>\n",
       "    <tr>\n",
       "      <th>4</th>\n",
       "      <td>2d3afb7bd17af9bb2e1b8ce890ee55d0</td>\n",
       "      <td>三子窩闊台</td>\n",
       "      <td>成吉思汗的哪一個兒子成為大汗繼承人?</td>\n",
       "      <td>窩闊台</td>\n",
       "    </tr>\n",
       "    <tr>\n",
       "      <th>6</th>\n",
       "      <td>a62dfeb4578129a61efb718b595d4635</td>\n",
       "      <td>每一位消費者的邊際成本趨近於零，我們稱這種公財</td>\n",
       "      <td>「純公共財」指的是什麼?</td>\n",
       "      <td>每一位消費者的邊際成本趨近於零</td>\n",
       "    </tr>\n",
       "    <tr>\n",
       "      <th>9</th>\n",
       "      <td>42ecc7addfc58b308f4fde61b2ff4b7d</td>\n",
       "      <td>提姆·柏內茲-李</td>\n",
       "      <td>全球資訊網是誰發明的?</td>\n",
       "      <td>英國科學家提姆·柏內茲-李</td>\n",
       "    </tr>\n",
       "    <tr>\n",
       "      <th>11</th>\n",
       "      <td>20cce8869867ffd56dad5c039841ccfa</td>\n",
       "      <td>三個</td>\n",
       "      <td>南非有幾個首都?</td>\n",
       "      <td>三</td>\n",
       "    </tr>\n",
       "    <tr>\n",
       "      <th>15</th>\n",
       "      <td>e487de43f85bb78e0c76629cd6b20dc2</td>\n",
       "      <td>唐朝善導大師</td>\n",
       "      <td>蓮宗是誰創立的?</td>\n",
       "      <td>善導大師</td>\n",
       "    </tr>\n",
       "    <tr>\n",
       "      <th>...</th>\n",
       "      <td>...</td>\n",
       "      <td>...</td>\n",
       "      <td>...</td>\n",
       "      <td>...</td>\n",
       "    </tr>\n",
       "    <tr>\n",
       "      <th>618</th>\n",
       "      <td>a28334b2703ce4fe3c2ed383f8f5b9e0</td>\n",
       "      <td>非鐵金屬冶金學</td>\n",
       "      <td>冶金學可以分為鋼鐵冶金學及什麼冶金法?</td>\n",
       "      <td>非鐵金屬</td>\n",
       "    </tr>\n",
       "    <tr>\n",
       "      <th>619</th>\n",
       "      <td>bf5538931bcc2d4b1b779a48dee7c892</td>\n",
       "      <td>在公元前288年</td>\n",
       "      <td>在阿努拉德普勒古寺內的聖菩提樹有甚麼來歷?</td>\n",
       "      <td>這棵菩提樹是在公元前288年用當年釋迦牟尼佛坐在其下得道的菩提樹的扦插苗移栽而存活至今的</td>\n",
       "    </tr>\n",
       "    <tr>\n",
       "      <th>620</th>\n",
       "      <td>aec967b7ffb6cfcfdea51d55a293438c</td>\n",
       "      <td>收集、保存韓國電影</td>\n",
       "      <td>韓國實施電影義務納本制度達到了什麼效果？</td>\n",
       "      <td>1997年以後製作的韓國電影全部保存</td>\n",
       "    </tr>\n",
       "    <tr>\n",
       "      <th>627</th>\n",
       "      <td>fde746bd77ae6684de46b9a03607bccb</td>\n",
       "      <td>途徑中的反應對於特定的代謝問題已經是一個優化的解決辦法</td>\n",
       "      <td>為何古老的代謝途徑沒有進一步進化？</td>\n",
       "      <td>可能是途徑中的反應對於特定的代謝問題已經是一個優化的解決辦法，可以以很少的步驟達而到很高的效率</td>\n",
       "    </tr>\n",
       "    <tr>\n",
       "      <th>628</th>\n",
       "      <td>7f82b1b7ee50747ea4c702143b7dcc20</td>\n",
       "      <td>奪取民田</td>\n",
       "      <td>元朝時期官田之外的牧場通常是如何取得?</td>\n",
       "      <td>由奪取民田而得</td>\n",
       "    </tr>\n",
       "  </tbody>\n",
       "</table>\n",
       "<p>100 rows × 4 columns</p>\n",
       "</div>"
      ],
      "text/plain": [
       "                                   id                       answer  \\\n",
       "4    2d3afb7bd17af9bb2e1b8ce890ee55d0                        三子窩闊台   \n",
       "6    a62dfeb4578129a61efb718b595d4635      每一位消費者的邊際成本趨近於零，我們稱這種公財   \n",
       "9    42ecc7addfc58b308f4fde61b2ff4b7d                     提姆·柏內茲-李   \n",
       "11   20cce8869867ffd56dad5c039841ccfa                           三個   \n",
       "15   e487de43f85bb78e0c76629cd6b20dc2                       唐朝善導大師   \n",
       "..                                ...                          ...   \n",
       "618  a28334b2703ce4fe3c2ed383f8f5b9e0                      非鐵金屬冶金學   \n",
       "619  bf5538931bcc2d4b1b779a48dee7c892                     在公元前288年   \n",
       "620  aec967b7ffb6cfcfdea51d55a293438c                    收集、保存韓國電影   \n",
       "627  fde746bd77ae6684de46b9a03607bccb  途徑中的反應對於特定的代謝問題已經是一個優化的解決辦法   \n",
       "628  7f82b1b7ee50747ea4c702143b7dcc20                         奪取民田   \n",
       "\n",
       "                  question                                            label  \n",
       "4       成吉思汗的哪一個兒子成為大汗繼承人?                                              窩闊台  \n",
       "6             「純公共財」指的是什麼?                                  每一位消費者的邊際成本趨近於零  \n",
       "9              全球資訊網是誰發明的?                                    英國科學家提姆·柏內茲-李  \n",
       "11                南非有幾個首都?                                                三  \n",
       "15                蓮宗是誰創立的?                                             善導大師  \n",
       "..                     ...                                              ...  \n",
       "618    冶金學可以分為鋼鐵冶金學及什麼冶金法?                                             非鐵金屬  \n",
       "619  在阿努拉德普勒古寺內的聖菩提樹有甚麼來歷?     這棵菩提樹是在公元前288年用當年釋迦牟尼佛坐在其下得道的菩提樹的扦插苗移栽而存活至今的  \n",
       "620   韓國實施電影義務納本制度達到了什麼效果？                               1997年以後製作的韓國電影全部保存  \n",
       "627      為何古老的代謝途徑沒有進一步進化？  可能是途徑中的反應對於特定的代謝問題已經是一個優化的解決辦法，可以以很少的步驟達而到很高的效率  \n",
       "628    元朝時期官田之外的牧場通常是如何取得?                                          由奪取民田而得  \n",
       "\n",
       "[100 rows x 4 columns]"
      ]
     },
     "execution_count": 57,
     "metadata": {},
     "output_type": "execute_result"
    }
   ],
   "source": [
    "brief_wrong_case.head(100)"
   ]
  },
  {
   "cell_type": "code",
   "execution_count": 58,
   "metadata": {},
   "outputs": [
    {
     "data": {
      "text/plain": [
       "47"
      ]
     },
     "execution_count": 58,
     "metadata": {},
     "output_type": "execute_result"
    }
   ],
   "source": [
    "len(\"可能是途徑中的反應對於特定的代謝問題已經是一個優化的解決辦法，可以以很少的步驟達而到很高的效率\")"
   ]
  }
 ],
 "metadata": {
  "kernelspec": {
   "display_name": "ADL_hw1",
   "language": "python",
   "name": "python3"
  },
  "language_info": {
   "codemirror_mode": {
    "name": "ipython",
    "version": 3
   },
   "file_extension": ".py",
   "mimetype": "text/x-python",
   "name": "python",
   "nbconvert_exporter": "python",
   "pygments_lexer": "ipython3",
   "version": "3.9.18"
  }
 },
 "nbformat": 4,
 "nbformat_minor": 2
}
