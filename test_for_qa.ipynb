{
 "cells": [
  {
   "cell_type": "code",
   "execution_count": 1,
   "metadata": {},
   "outputs": [
    {
     "name": "stderr",
     "output_type": "stream",
     "text": [
      "/home/whlin/.local/lib/python3.9/site-packages/tqdm/auto.py:21: TqdmWarning: IProgress not found. Please update jupyter and ipywidgets. See https://ipywidgets.readthedocs.io/en/stable/user_install.html\n",
      "  from .autonotebook import tqdm as notebook_tqdm\n"
     ]
    }
   ],
   "source": [
    "from datasets import load_dataset\n",
    "import json"
   ]
  },
  {
   "cell_type": "code",
   "execution_count": 2,
   "metadata": {},
   "outputs": [
    {
     "name": "stderr",
     "output_type": "stream",
     "text": [
      "Using custom data configuration default-bf2c0e59b3d5d02d\n",
      "Found cached dataset json (/home/whlin/.cache/huggingface/datasets/json/default-bf2c0e59b3d5d02d/0.0.0/e6070c77f18f01a5ad4551a8b7edfba20b8438b7cad4d94e6ad9378022ce4aab)\n",
      "100%|██████████| 2/2 [00:00<00:00, 1066.71it/s]\n"
     ]
    }
   ],
   "source": [
    "data_files = {\"train\": \"./data/train.json\", \"test\": \"./data/valid.json\"}\n",
    "qa_dataset = load_dataset(\"json\", data_files=data_files)\n",
    "\n"
   ]
  },
  {
   "cell_type": "code",
   "execution_count": 3,
   "metadata": {},
   "outputs": [],
   "source": [
    "with open(\"./data/context.json\") as f:\n",
    "    context_data = json.load(f)"
   ]
  },
  {
   "cell_type": "markdown",
   "metadata": {},
   "source": [
    "question_column_name = \"question\" if \"question\" in column_names else column_names[0]\n",
    "context_column_name = \"context\" if \"context\" in column_names else column_names[1]\n",
    "answer_column_name = \"answers\" if \"answers\" in column_names else column_names[2]"
   ]
  },
  {
   "cell_type": "code",
   "execution_count": 4,
   "metadata": {},
   "outputs": [],
   "source": [
    "def preprocess(example):\n",
    "    data = dict()\n",
    "    data['context'] = context_data[example['relevant']]\n",
    "    data['answers'] = {\"answer_start\": [example['answer']['start']],\n",
    "                       \"text\": [example['answer']['text']]}\n",
    "    \n",
    "    return data"
   ]
  },
  {
   "cell_type": "code",
   "execution_count": 5,
   "metadata": {},
   "outputs": [
    {
     "name": "stderr",
     "output_type": "stream",
     "text": [
      "Loading cached processed dataset at /home/whlin/.cache/huggingface/datasets/json/default-bf2c0e59b3d5d02d/0.0.0/e6070c77f18f01a5ad4551a8b7edfba20b8438b7cad4d94e6ad9378022ce4aab/cache-d1b28f5340a65c13.arrow\n"
     ]
    }
   ],
   "source": [
    "test_dataset = qa_dataset['train'].select(range(10))\n",
    "tokenized_dataset = test_dataset.map(preprocess, remove_columns=['answer', 'paragraphs', 'relevant'])"
   ]
  },
  {
   "cell_type": "code",
   "execution_count": 6,
   "metadata": {},
   "outputs": [
    {
     "name": "stdout",
     "output_type": "stream",
     "text": [
      "Dataset({\n",
      "    features: ['id', 'question', 'context', 'answers'],\n",
      "    num_rows: 10\n",
      "})\n",
      "{'id': '593f14f960d971e294af884f0194b3a7', 'question': '舍本和誰的數據能推算出連星的恆星的質量？', 'context': '在19世紀雙星觀測所獲得的成就使重要性也增加了。在1834年，白塞爾觀測到天狼星自行的變化，因而推測有一顆隱藏的伴星；愛德華·皮克林在1899年觀測開陽週期性分裂的光譜線時發現第一顆光譜雙星，週期是104天。天文學家斯特魯維和舍本·衛斯里·伯納姆仔細的觀察和收集了許多聯星的資料，使得可以從被確定的軌道要素推算出恆星的質量。第一個獲得解答的是1827年由菲利克斯·薩瓦里透過望遠鏡的觀測得到的聯星軌道。對恆星的科學研究在20世紀獲得快速的進展，相片成為天文學上很有價值的工具。卡爾·史瓦西發現經由比較視星等和攝影星等的差別，可以得到恆星的顏色和它的溫度。1921年，光電光度計的發展可以在不同的波長間隔上非常精密的測量星等。阿爾伯特·邁克生在虎克望遠鏡第一次使用干涉儀測量出恆星的直徑。', 'answers': {'answer_start': [108], 'text': ['斯特魯維']}}\n"
     ]
    }
   ],
   "source": [
    "print(tokenized_dataset)\n",
    "print(tokenized_dataset[0])"
   ]
  },
  {
   "cell_type": "code",
   "execution_count": 7,
   "metadata": {},
   "outputs": [
    {
     "data": {
      "text/plain": [
       "108"
      ]
     },
     "execution_count": 7,
     "metadata": {},
     "output_type": "execute_result"
    }
   ],
   "source": [
    "tokenized_dataset[0]['context'].index(\"斯特魯維\")"
   ]
  },
  {
   "cell_type": "code",
   "execution_count": 11,
   "metadata": {},
   "outputs": [
    {
     "name": "stderr",
     "output_type": "stream",
     "text": [
      "Loading cached processed dataset at /home/whlin/.cache/huggingface/datasets/json/default-bf2c0e59b3d5d02d/0.0.0/e6070c77f18f01a5ad4551a8b7edfba20b8438b7cad4d94e6ad9378022ce4aab/cache-8fd461a3c78b9f14.arrow\n",
      "Loading cached processed dataset at /home/whlin/.cache/huggingface/datasets/json/default-bf2c0e59b3d5d02d/0.0.0/e6070c77f18f01a5ad4551a8b7edfba20b8438b7cad4d94e6ad9378022ce4aab/cache-a7fdb5861a5155b0.arrow\n"
     ]
    },
    {
     "data": {
      "text/plain": [
       "DatasetDict({\n",
       "    train: Dataset({\n",
       "        features: ['id', 'question', 'paragraphs', 'relevant', 'answer'],\n",
       "        num_rows: 0\n",
       "    })\n",
       "    test: Dataset({\n",
       "        features: ['id', 'question', 'paragraphs', 'relevant', 'answer'],\n",
       "        num_rows: 0\n",
       "    })\n",
       "})"
      ]
     },
     "execution_count": 11,
     "metadata": {},
     "output_type": "execute_result"
    }
   ],
   "source": [
    "qa_dataset.filter(lambda x: x[\"answer\"] is None)"
   ]
  },
  {
   "cell_type": "markdown",
   "metadata": {},
   "source": [
    "all question has answer"
   ]
  },
  {
   "cell_type": "code",
   "execution_count": 15,
   "metadata": {},
   "outputs": [
    {
     "name": "stdout",
     "output_type": "stream",
     "text": [
      "63\n",
      "氧化磷酸化中，通過如檸檬酸循環等代謝途徑，電子從被消化吸收的食物分子上轉移到氧氣上，並將產生的能量以三磷酸腺苷的方式儲存起來。\n"
     ]
    }
   ],
   "source": [
    "max_length = 0\n",
    "sentence = \"\"\n",
    "for answer in qa_dataset['test']['answer']:\n",
    "    if len(answer['text']) > max_length:\n",
    "        max_length = len(answer['text'])\n",
    "        sentence = answer['text']\n",
    "\n",
    "print(max_length)\n",
    "print(sentence)"
   ]
  },
  {
   "cell_type": "code",
   "execution_count": 14,
   "metadata": {},
   "outputs": [
    {
     "name": "stdout",
     "output_type": "stream",
     "text": [
      "1254\n",
      "1120公尺\n"
     ]
    }
   ],
   "source": [
    "max_start = 0\n",
    "sentence = \"\"\n",
    "for answer in qa_dataset['train']['answer']:\n",
    "    if answer['start'] > max_start:\n",
    "        max_start = answer['start']\n",
    "        sentence = answer['text']\n",
    "\n",
    "print(max_start)\n",
    "print(sentence)"
   ]
  },
  {
   "cell_type": "markdown",
   "metadata": {},
   "source": [
    "# try xlnet"
   ]
  },
  {
   "cell_type": "code",
   "execution_count": 3,
   "metadata": {},
   "outputs": [],
   "source": [
    "from transformers import AutoTokenizer\n",
    "\n",
    "tokenizer = AutoTokenizer.from_pretrained(\"xlnet-base-cased\")"
   ]
  },
  {
   "cell_type": "code",
   "execution_count": 4,
   "metadata": {},
   "outputs": [
    {
     "data": {
      "text/plain": [
       "'left'"
      ]
     },
     "execution_count": 4,
     "metadata": {},
     "output_type": "execute_result"
    }
   ],
   "source": [
    "tokenizer.padding_side"
   ]
  },
  {
   "cell_type": "code",
   "execution_count": 10,
   "metadata": {},
   "outputs": [
    {
     "name": "stderr",
     "output_type": "stream",
     "text": [
      "Found cached dataset squad (/home/whlin/.cache/huggingface/datasets/squad/plain_text/1.0.0/d6ec3ceb99ca480ce37cdd35555d6cb2511d223b9150cce08a837ef62ffea453)\n",
      "100%|██████████| 2/2 [00:00<00:00,  7.13it/s]\n"
     ]
    }
   ],
   "source": [
    "from datasets import load_dataset\n",
    "\n",
    "raw_datasets = load_dataset(\"squad\")"
   ]
  },
  {
   "cell_type": "code",
   "execution_count": 11,
   "metadata": {},
   "outputs": [],
   "source": [
    "sequence = [\"hello world peko peko hello world peko peko\", \"my name is pekora cha hello world peko peko hello world peko peko\"]\n",
    "answer = [\"peko hello world peko peko hello world peko peko\", \"peko hello world peko peko hello world peko peko\"]\n",
    "output = tokenizer(\n",
    "    raw_datasets[\"train\"][2:6][\"context\"],\n",
    "    raw_datasets[\"train\"][2:6][\"question\"],\n",
    "    truncation='only_first',\n",
    "    max_length=384,\n",
    "    stride=128,\n",
    "    return_overflowing_tokens=True,\n",
    "    return_offsets_mapping=True,\n",
    ")"
   ]
  },
  {
   "cell_type": "code",
   "execution_count": 19,
   "metadata": {},
   "outputs": [
    {
     "data": {
      "text/plain": [
       "Encoding(num_tokens=182, attributes=[ids, type_ids, tokens, offsets, attention_mask, special_tokens_mask, overflowing])"
      ]
     },
     "execution_count": 19,
     "metadata": {},
     "output_type": "execute_result"
    }
   ],
   "source": [
    "output[0]"
   ]
  },
  {
   "cell_type": "code",
   "execution_count": 21,
   "metadata": {},
   "outputs": [
    {
     "name": "stdout",
     "output_type": "stream",
     "text": [
      "Architecturally, the school has a Catholic character. Atop the Main Building's gold dome is a golden statue of the Virgin Mary. Immediately in front of the Main Building and facing it, is a copper statue of Christ with arms upraised with the legend \"Venite Ad Me Omnes\". Next to the Main Building is the Basilica of the Sacred Heart. Immediately behind the basilica is the Grotto, a Marian place of prayer and reflection. It is a replica of the grotto at Lourdes, France where the Virgin Mary reputedly appeared to Saint Bernadette Soubirous in 1858. At the end of the main drive (and in a direct line that connects through 3 statues and the Gold Dome), is a simple, modern stone statue of Mary.\n",
      "The Basilica of the Sacred heart at Notre Dame is beside to which structure?\n",
      "input_ids :  [31571, 111, 19, 18, 297, 51, 24, 2335, 1542, 9, 79, 4457, 18, 5849, 5087, 26, 23, 1306, 17, 10781, 27, 24, 5540, 8928, 20, 18, 9225, 2198, 9, 20328, 25, 605, 20, 18, 5849, 5087, 21, 3077, 36, 19, 27, 24, 8177, 8928, 20, 2544, 33, 1374, 76, 16791, 66, 33, 18, 7347, 17, 12, 1142, 254, 2515, 2915, 1275, 18524, 4048, 12, 9, 4945, 22, 18, 5849, 5087, 27, 18, 28923, 20, 18, 22857, 6175, 9, 20328, 583, 18, 31971, 27, 18, 6480, 46, 261, 19, 24, 17540, 250, 20, 6210, 21, 9163, 9, 84, 27, 24, 14388, 20, 18, 17, 11419, 20546, 38, 8030, 1937, 202, 19, 745, 131, 18, 9225, 2198, 24424, 111, 1144, 22, 3555, 10839, 1117, 3916, 346, 19637, 7948, 25, 22903, 9, 296, 18, 239, 20, 18, 587, 1323, 17, 10, 443, 25, 24, 1568, 418, 29, 14034, 135, 198, 18588, 21, 18, 3105, 17125, 11, 19, 27, 24, 1369, 19, 1380, 3085, 8928, 20, 2198, 9, 4, 32, 28923, 20, 18, 22857, 758, 38, 15308, 12688, 27, 5150, 22, 59, 1956, 82, 4, 3]\n",
      "token_type_ids :  [0, 0, 0, 0, 0, 0, 0, 0, 0, 0, 0, 0, 0, 0, 0, 0, 0, 0, 0, 0, 0, 0, 0, 0, 0, 0, 0, 0, 0, 0, 0, 0, 0, 0, 0, 0, 0, 0, 0, 0, 0, 0, 0, 0, 0, 0, 0, 0, 0, 0, 0, 0, 0, 0, 0, 0, 0, 0, 0, 0, 0, 0, 0, 0, 0, 0, 0, 0, 0, 0, 0, 0, 0, 0, 0, 0, 0, 0, 0, 0, 0, 0, 0, 0, 0, 0, 0, 0, 0, 0, 0, 0, 0, 0, 0, 0, 0, 0, 0, 0, 0, 0, 0, 0, 0, 0, 0, 0, 0, 0, 0, 0, 0, 0, 0, 0, 0, 0, 0, 0, 0, 0, 0, 0, 0, 0, 0, 0, 0, 0, 0, 0, 0, 0, 0, 0, 0, 0, 0, 0, 0, 0, 0, 0, 0, 0, 0, 0, 0, 0, 0, 0, 0, 0, 0, 0, 0, 0, 0, 0, 0, 0, 0, 0, 0, 1, 1, 1, 1, 1, 1, 1, 1, 1, 1, 1, 1, 1, 1, 1, 1, 2]\n",
      "attention_mask :  [1, 1, 1, 1, 1, 1, 1, 1, 1, 1, 1, 1, 1, 1, 1, 1, 1, 1, 1, 1, 1, 1, 1, 1, 1, 1, 1, 1, 1, 1, 1, 1, 1, 1, 1, 1, 1, 1, 1, 1, 1, 1, 1, 1, 1, 1, 1, 1, 1, 1, 1, 1, 1, 1, 1, 1, 1, 1, 1, 1, 1, 1, 1, 1, 1, 1, 1, 1, 1, 1, 1, 1, 1, 1, 1, 1, 1, 1, 1, 1, 1, 1, 1, 1, 1, 1, 1, 1, 1, 1, 1, 1, 1, 1, 1, 1, 1, 1, 1, 1, 1, 1, 1, 1, 1, 1, 1, 1, 1, 1, 1, 1, 1, 1, 1, 1, 1, 1, 1, 1, 1, 1, 1, 1, 1, 1, 1, 1, 1, 1, 1, 1, 1, 1, 1, 1, 1, 1, 1, 1, 1, 1, 1, 1, 1, 1, 1, 1, 1, 1, 1, 1, 1, 1, 1, 1, 1, 1, 1, 1, 1, 1, 1, 1, 1, 1, 1, 1, 1, 1, 1, 1, 1, 1, 1, 1, 1, 1, 1, 1, 1, 1]\n",
      "offset_mapping :  [(0, 13), (13, 15), (15, 16), (17, 20), (21, 27), (28, 31), (32, 33), (34, 42), (43, 52), (52, 53), (54, 55), (55, 58), (59, 62), (63, 67), (68, 76), (76, 77), (77, 78), (79, 83), (84, 85), (84, 88), (89, 91), (92, 93), (94, 100), (101, 107), (108, 110), (111, 114), (115, 121), (122, 126), (126, 127), (128, 139), (140, 142), (143, 148), (149, 151), (152, 155), (156, 160), (161, 169), (170, 173), (174, 180), (181, 183), (183, 184), (185, 187), (188, 189), (190, 196), (197, 203), (204, 206), (207, 213), (214, 218), (219, 223), (224, 226), (226, 231), (231, 232), (233, 237), (238, 241), (242, 248), (249, 250), (249, 250), (250, 251), (251, 253), (253, 256), (257, 259), (260, 262), (263, 265), (265, 268), (268, 269), (269, 270), (271, 275), (276, 278), (279, 282), (283, 287), (288, 296), (297, 299), (300, 303), (304, 312), (313, 315), (316, 319), (320, 326), (327, 332), (332, 333), (334, 345), (346, 352), (353, 356), (357, 365), (366, 368), (369, 372), (373, 376), (376, 377), (377, 379), (379, 380), (381, 382), (383, 389), (390, 395), (396, 398), (399, 405), (406, 409), (410, 420), (420, 421), (422, 424), (425, 427), (428, 429), (430, 437), (438, 440), (441, 444), (445, 446), (445, 447), (447, 451), (452, 454), (455, 458), (458, 460), (460, 462), (462, 463), (464, 470), (471, 476), (477, 480), (481, 487), (488, 492), (493, 500), (500, 502), (503, 511), (512, 514), (515, 520), (521, 525), (525, 527), (527, 531), (532, 534), (534, 537), (537, 541), (542, 544), (545, 549), (549, 550), (551, 553), (554, 557), (558, 561), (562, 564), (565, 568), (569, 573), (574, 579), (580, 581), (580, 581), (581, 584), (585, 587), (588, 589), (590, 596), (597, 601), (602, 606), (607, 615), (616, 623), (624, 625), (626, 633), (634, 637), (638, 641), (642, 646), (647, 651), (651, 652), (652, 653), (654, 656), (657, 658), (659, 665), (665, 666), (667, 673), (674, 679), (680, 686), (687, 689), (690, 694), (694, 695), (0, 0), (0, 3), (4, 12), (13, 15), (16, 19), (20, 26), (27, 32), (33, 35), (36, 41), (42, 46), (47, 49), (50, 56), (57, 59), (60, 65), (66, 75), (75, 76), (0, 0), (0, 0)]\n",
      "overflow_to_sample_mapping :  0\n",
      "['▁Architectural', 'ly', ',', '▁the', '▁school', '▁has', '▁a', '▁Catholic', '▁character', '.', '▁A', 'top', '▁the', '▁Main', '▁Building', \"'\", 's', '▁gold', '▁', 'dome', '▁is', '▁a', '▁golden', '▁statue', '▁of', '▁the', '▁Virgin', '▁Mary', '.', '▁Immediately', '▁in', '▁front', '▁of', '▁the', '▁Main', '▁Building', '▁and', '▁facing', '▁it', ',', '▁is', '▁a', '▁copper', '▁statue', '▁of', '▁Christ', '▁with', '▁arms', '▁up', 'raise', 'd', '▁with', '▁the', '▁legend', '▁', '\"', 'V', 'en', 'ite', '▁Ad', '▁Me', '▁Om', 'nes', '\"', '.', '▁Next', '▁to', '▁the', '▁Main', '▁Building', '▁is', '▁the', '▁Basilica', '▁of', '▁the', '▁Sacred', '▁Heart', '.', '▁Immediately', '▁behind', '▁the', '▁basilica', '▁is', '▁the', '▁Gro', 't', 'to', ',', '▁a', '▁Marian', '▁place', '▁of', '▁prayer', '▁and', '▁reflection', '.', '▁It', '▁is', '▁a', '▁replica', '▁of', '▁the', '▁', 'gr', 'otto', '▁at', '▁Lou', 'rd', 'es', ',', '▁France', '▁where', '▁the', '▁Virgin', '▁Mary', '▁reputed', 'ly', '▁appeared', '▁to', '▁Saint', '▁Bern', 'ad', 'ette', '▁So', 'ubi', 'rous', '▁in', '▁1858', '.', '▁At', '▁the', '▁end', '▁of', '▁the', '▁main', '▁drive', '▁', '(', 'and', '▁in', '▁a', '▁direct', '▁line', '▁that', '▁connects', '▁through', '▁3', '▁statues', '▁and', '▁the', '▁Gold', '▁Dome', ')', ',', '▁is', '▁a', '▁simple', ',', '▁modern', '▁stone', '▁statue', '▁of', '▁Mary', '.', '<sep>', '▁The', '▁Basilica', '▁of', '▁the', '▁Sacred', '▁heart', '▁at', '▁Notre', '▁Dame', '▁is', '▁beside', '▁to', '▁which', '▁structure', '?', '<sep>', '<cls>']\n"
     ]
    }
   ],
   "source": [
    "print(raw_datasets[\"train\"][2][\"context\"])\n",
    "print(raw_datasets[\"train\"][2][\"question\"])\n",
    "for i in range(1):\n",
    "    for key in output.keys():\n",
    "        print(key, \": \", output[key][i])\n",
    "    print(output.tokens(i))"
   ]
  }
 ],
 "metadata": {
  "kernelspec": {
   "display_name": "ADL_hw1",
   "language": "python",
   "name": "python3"
  },
  "language_info": {
   "codemirror_mode": {
    "name": "ipython",
    "version": 3
   },
   "file_extension": ".py",
   "mimetype": "text/x-python",
   "name": "python",
   "nbconvert_exporter": "python",
   "pygments_lexer": "ipython3",
   "version": "3.9.18"
  },
  "orig_nbformat": 4
 },
 "nbformat": 4,
 "nbformat_minor": 2
}
